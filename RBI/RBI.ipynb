{
 "cells": [
  {
   "cell_type": "code",
   "execution_count": 2,
   "metadata": {},
   "outputs": [
    {
     "name": "stdout",
     "output_type": "stream",
     "text": [
      "Fetching data for CRWD\n"
     ]
    },
    {
     "name": "stderr",
     "output_type": "stream",
     "text": [
      "[*********************100%%**********************]  1 of 1 completed\n"
     ]
    },
    {
     "name": "stdout",
     "output_type": "stream",
     "text": [
      "Fetching data for NVDA\n"
     ]
    },
    {
     "name": "stderr",
     "output_type": "stream",
     "text": [
      "[*********************100%%**********************]  1 of 1 completed\n"
     ]
    },
    {
     "name": "stdout",
     "output_type": "stream",
     "text": [
      "Fetching data for HD\n"
     ]
    },
    {
     "name": "stderr",
     "output_type": "stream",
     "text": [
      "[*********************100%%**********************]  1 of 1 completed"
     ]
    },
    {
     "name": "stdout",
     "output_type": "stream",
     "text": [
      "Data retrieval and saving complete!\n"
     ]
    },
    {
     "name": "stderr",
     "output_type": "stream",
     "text": [
      "\n"
     ]
    }
   ],
   "source": [
    "import yfinance as yf\n",
    "import pandas as pd\n",
    "import datetime\n",
    "\n",
    "# Define the list of tickers for the selected equities\n",
    "tickers = ['CRWD', 'NVDA', 'HD']\n",
    "\n",
    "# Initialize an empty dictionary to store the data\n",
    "data = {}\n",
    "\n",
    "# Retrieve 2-minute interval data for the past 60 days\n",
    "start_date = (datetime.datetime.now() - datetime.timedelta(days=59)).strftime('%Y-%m-%d')\n",
    "end_date = datetime.datetime.now().strftime('%Y-%m-%d')\n",
    "\n",
    "for ticker in tickers:\n",
    "    print(f\"Fetching data for {ticker}\")\n",
    "    try:\n",
    "        stock_data = yf.download(ticker, start=start_date, end=end_date, interval='2m')\n",
    "        data[ticker] = stock_data\n",
    "        \n",
    "        # Save each stock's data into a separate CSV file\n",
    "        stock_data.to_csv(f\"{ticker}_2min_data.csv\")\n",
    "        \n",
    "    except Exception as e:\n",
    "        print(f\"Could not retrieve data for {ticker}: {e}\")\n",
    "\n",
    "print(\"Data retrieval and saving complete!\")"
   ]
  },
  {
   "cell_type": "code",
   "execution_count": 6,
   "metadata": {},
   "outputs": [
    {
     "name": "stdout",
     "output_type": "stream",
     "text": [
      "Initial data check:\n",
      "                                 Open        High         Low       Close  \\\n",
      "Datetime                                                                    \n",
      "2024-07-08 09:30:00-04:00  390.368011  397.038086  390.279999  395.589996   \n",
      "2024-07-08 09:32:00-04:00  395.704987  396.899994  394.220001  394.220001   \n",
      "2024-07-08 09:34:00-04:00  394.100006  394.334991  383.670013  386.410004   \n",
      "2024-07-08 09:36:00-04:00  385.619995  385.619995  379.790009  382.119995   \n",
      "2024-07-08 09:38:00-04:00  382.434998  385.459900  381.490997  385.230011   \n",
      "\n",
      "                            Adj Close  Volume  \n",
      "Datetime                                       \n",
      "2024-07-08 09:30:00-04:00  395.589996  241134  \n",
      "2024-07-08 09:32:00-04:00  394.220001   95122  \n",
      "2024-07-08 09:34:00-04:00  386.410004  176206  \n",
      "2024-07-08 09:36:00-04:00  382.119995  178854  \n",
      "2024-07-08 09:38:00-04:00  385.230011   80863  \n",
      "SMA columns populated successfully. Sample data:\n",
      "                            20min_SMA  200min_SMA\n",
      "Datetime                                         \n",
      "2024-07-08 12:48:00-04:00  387.350009  387.061303\n",
      "2024-07-08 12:50:00-04:00  387.349509  386.981053\n",
      "2024-07-08 12:52:00-04:00  387.392209  386.917353\n",
      "2024-07-08 12:54:00-04:00  387.464410  386.932753\n",
      "2024-07-08 12:56:00-04:00  387.566412  386.992253\n",
      "Final CSV file saved correctly. Sample data:\n",
      "                            20min_SMA  200min_SMA  Setup\n",
      "Datetime                                                \n",
      "2024-07-08 12:48:00-04:00  387.350009  387.061303   True\n",
      "2024-07-08 12:50:00-04:00  387.349509  386.981053   True\n",
      "2024-07-08 12:52:00-04:00  387.392209  386.917353   True\n",
      "2024-07-08 12:54:00-04:00  387.464410  386.932753   True\n",
      "2024-07-08 12:56:00-04:00  387.566412  386.992253   True\n",
      "Process completed successfully!\n"
     ]
    }
   ],
   "source": [
    "# Load the previously saved CRWD data\n",
    "crwd_data = pd.read_csv(\"CRWD_2min_data.csv\", index_col=0, parse_dates=True)\n",
    "\n",
    "# Check the first few rows of the data to ensure it loaded correctly\n",
    "print(\"Initial data check:\")\n",
    "print(crwd_data.head())\n",
    "\n",
    "# Calculate the 20-minute and 200-minute SMAs\n",
    "crwd_data['20min_SMA'] = crwd_data['Close'].rolling(window=10).mean()  # 20min SMA on a 2min interval is a 10-period SMA\n",
    "crwd_data['200min_SMA'] = crwd_data['Close'].rolling(window=100).mean()  # 200min SMA on a 2min interval is a 100-period SMA\n",
    "\n",
    "# Check if the SMA columns are populated correctly\n",
    "if crwd_data['20min_SMA'].isnull().all() or crwd_data['200min_SMA'].isnull().all():\n",
    "    print(\"Error: SMA columns are not populated correctly. Please check the calculations.\")\n",
    "else:\n",
    "    print(\"SMA columns populated successfully. Sample data:\")\n",
    "    print(crwd_data[['20min_SMA', '200min_SMA']].dropna().head())\n",
    "\n",
    "# Save the updated data with SMAs to the same CSV file or a new one\n",
    "crwd_data.to_csv(\"CRWD_2min_data_with_SMA.csv\")\n",
    "\n",
    "print(\"Process completed successfully! 20min & 200min SMA data added to CSV file!\")"
   ]
  },
  {
   "cell_type": "code",
   "execution_count": 7,
   "metadata": {},
   "outputs": [
    {
     "name": "stdout",
     "output_type": "stream",
     "text": [
      "Final CSV file saved correctly. Sample data:\n",
      "                            20min_SMA  200min_SMA  Setup\n",
      "Datetime                                                \n",
      "2024-07-08 12:48:00-04:00  387.350009  387.061303   True\n",
      "2024-07-08 12:50:00-04:00  387.349509  386.981053   True\n",
      "2024-07-08 12:52:00-04:00  387.392209  386.917353   True\n",
      "2024-07-08 12:54:00-04:00  387.464410  386.932753   True\n",
      "2024-07-08 12:56:00-04:00  387.566412  386.992253   True\n",
      "Process completed successfully!\n"
     ]
    }
   ],
   "source": [
    "# Now add the Setup condition\n",
    "crwd_data['Setup'] = crwd_data['20min_SMA'] > crwd_data['200min_SMA']\n",
    "\n",
    "# Save the updated data with the Setup column to the same or new CSV file\n",
    "crwd_data.to_csv(\"CRWD_2min_data_with_SMA_and_Setup.csv\")\n",
    "\n",
    "# Re-load the final file to confirm everything saved correctly\n",
    "final_data = pd.read_csv(\"CRWD_2min_data_with_SMA_and_Setup.csv\", index_col=0, parse_dates=True)\n",
    "\n",
    "# Check if the SMA and Setup columns are populated in the final CSV\n",
    "if final_data[['20min_SMA', '200min_SMA', 'Setup']].isnull().all().any():\n",
    "    print(\"Error: One or more columns (SMA, Setup) are not populated correctly in the final CSV.\")\n",
    "else:\n",
    "    print(\"Final CSV file saved correctly. Sample data:\")\n",
    "    print(final_data[['20min_SMA', '200min_SMA', 'Setup']].dropna().head())\n",
    "\n",
    "print(\"Process completed successfully! First portion of setup with identifying Picture of Power is complete!\")"
   ]
  },
  {
   "cell_type": "code",
   "execution_count": 5,
   "metadata": {},
   "outputs": [
    {
     "name": "stdout",
     "output_type": "stream",
     "text": [
      "Candlestick labeling completed and saved successfully!\n"
     ]
    }
   ],
   "source": [
    "# Load the CRWD data with SMAs and Setup\n",
    "crwd_data = pd.read_csv(\"CRWD_2min_data_with_SMA_and_Setup.csv\", index_col=0, parse_dates=True)\n",
    "\n",
    "# Initialize all bars as \"Noise Bar\" by default\n",
    "crwd_data['Label'] = \"Noise Bar\"\n",
    "\n",
    "# Identify Control Bars\n",
    "crwd_data.loc[(crwd_data['Close'] > crwd_data['Open']) & (crwd_data['Setup'] == True), 'Label'] = \"Control Bar\"\n",
    "\n",
    "# Iterate through the DataFrame to label Ignored Bars and Indicator Bars\n",
    "for i in range(1, len(crwd_data) - 1):\n",
    "    if crwd_data.iloc[i]['Label'] == \"Control Bar\":\n",
    "        # We have identified a Control Bar; now check subsequent bars\n",
    "\n",
    "        # Check for Ignored Bar A\n",
    "        if (crwd_data.iloc[i + 1]['Close'] < crwd_data.iloc[i + 1]['Open']) and \\\n",
    "           ((crwd_data.iloc[i + 1]['Open'] - crwd_data.iloc[i + 1]['Close']) <= 0.5 * (crwd_data.iloc[i]['Close'] - crwd_data.iloc[i]['Open'])):\n",
    "            crwd_data.iloc[i + 1, crwd_data.columns.get_loc('Label')] = \"Ignored Bar A\"\n",
    "\n",
    "            # Check for Ignored Bar B\n",
    "            if (i + 2 < len(crwd_data)) and \\\n",
    "               (crwd_data.iloc[i + 2]['Close'] < crwd_data.iloc[i + 2]['Open']) and \\\n",
    "               ((crwd_data.iloc[i + 2]['Open'] - crwd_data.iloc[i + 2]['Close']) <= 0.5 * (crwd_data.iloc[i]['Close'] - crwd_data.iloc[i]['Open'])):\n",
    "                crwd_data.iloc[i + 2, crwd_data.columns.get_loc('Label')] = \"Ignored Bar B\"\n",
    "                next_index = i + 2\n",
    "            else:\n",
    "                next_index = i + 1\n",
    "            \n",
    "            # Check for Indicator Bar\n",
    "            if (next_index + 1 < len(crwd_data)) and \\\n",
    "               (crwd_data.iloc[next_index + 1]['Close'] > crwd_data.iloc[next_index + 1]['Open']) and \\\n",
    "               (crwd_data.iloc[next_index + 1]['High'] > crwd_data.iloc[next_index]['High']):\n",
    "                crwd_data.iloc[next_index + 1, crwd_data.columns.get_loc('Label')] = \"Indicator Bar\"\n",
    "\n",
    "# Final Review: Relabel any \"Control Bar\" that is not followed by an \"Ignored Bar\" as a \"Noise Bar\"\n",
    "for i in range(len(crwd_data) - 1):\n",
    "    if crwd_data.iloc[i]['Label'] == \"Control Bar\":\n",
    "        if crwd_data.iloc[i + 1]['Label'] not in [\"Ignored Bar A\", \"Ignored Bar B\"]:\n",
    "            crwd_data.iloc[i, crwd_data.columns.get_loc('Label')] = \"Noise Bar\"\n",
    "\n",
    "# Save the labeled data to a new CSV file\n",
    "crwd_data.to_csv(\"CRWD_2min_data_with_Final_Labels.csv\")\n",
    "\n",
    "print(\"Candlestick labeling completed and saved successfully!\")\n"
   ]
  },
  {
   "cell_type": "code",
   "execution_count": 6,
   "metadata": {},
   "outputs": [
    {
     "name": "stdout",
     "output_type": "stream",
     "text": [
      "Proximity and slope checks completed, and labels applied successfully!\n"
     ]
    }
   ],
   "source": [
    "# Load the CRWD data with final labels\n",
    "crwd_data = pd.read_csv(\"CRWD_2min_data_with_Final_Labels.csv\", index_col=0, parse_dates=True)\n",
    "\n",
    "# Calculate the slope (first derivative) of the 20-minute SMA\n",
    "crwd_data['SMA_20_slope'] = crwd_data['20min_SMA'].diff()\n",
    "\n",
    "# Initialize all bars as \"Empty\"\n",
    "crwd_data['Trade_Status'] = \"Empty\"\n",
    "\n",
    "# Check the conditions after identifying Ignored Bars\n",
    "for i in range(len(crwd_data) - 1):\n",
    "    if crwd_data.iloc[i]['Label'] in [\"Ignored Bar A\", \"Ignored Bar B\"]:\n",
    "        # Condition 1: Check if the closing price is within $1.00 of the 20-minute SMA\n",
    "        proximity_condition = abs(crwd_data.iloc[i]['Close'] - crwd_data.iloc[i]['20min_SMA']) <= 1.00\n",
    "        \n",
    "        # Condition 2: Check if the slope of the 20-minute SMA is positive\n",
    "        slope_condition = crwd_data.iloc[i]['SMA_20_slope'] > 0\n",
    "        \n",
    "        # If both conditions are true, label the bar as \"Primed\"\n",
    "        if proximity_condition and slope_condition:\n",
    "            crwd_data.iloc[i, crwd_data.columns.get_loc('Trade_Status')] = \"Primed\"\n",
    "\n",
    "# Save the updated data with the Trade_Status column to a new CSV file\n",
    "crwd_data.to_csv(\"CRWD_2min_data_with_Trade_Status.csv\")\n",
    "\n",
    "print(\"Proximity and slope checks completed, and labels applied successfully!\")\n"
   ]
  },
  {
   "cell_type": "code",
   "execution_count": 10,
   "metadata": {},
   "outputs": [
    {
     "name": "stdout",
     "output_type": "stream",
     "text": [
      "Trade triggered at 2024-07-08 13:30:00-04:00: Entry Price = 387.88298583984374, Stop Loss = 387.6499938964844\n",
      "Trade triggered at 2024-07-08 15:40:00-04:00: Entry Price = 388.92000366210937, Stop Loss = 388.6300048828125\n",
      "Trade triggered at 2024-07-10 14:12:00-04:00: Entry Price = 372.8799951171875, Stop Loss = 372.6400146484375\n",
      "Trade triggered at 2024-07-10 15:30:00-04:00: Entry Price = 373.05000854492187, Stop Loss = 372.80999755859375\n",
      "Trade triggered at 2024-07-12 10:54:00-04:00: Entry Price = 372.6299951171875, Stop Loss = 372.30999755859375\n",
      "Trade triggered at 2024-07-12 11:26:00-04:00: Entry Price = 370.1299951171875, Stop Loss = 369.2999877929687\n",
      "Trade triggered at 2024-07-12 15:28:00-04:00: Entry Price = 372.46989990234374, Stop Loss = 372.1799926757813\n",
      "Trade triggered at 2024-07-15 09:56:00-04:00: Entry Price = 375.8300073242187, Stop Loss = 374.94000244140625\n",
      "Trade triggered at 2024-07-15 10:12:00-04:00: Entry Price = 378.78999877929687, Stop Loss = 378.1199951171875\n",
      "Trade triggered at 2024-07-15 10:52:00-04:00: Entry Price = 381.6100061035156, Stop Loss = 381.07330322265625\n",
      "Trade triggered at 2024-07-15 11:06:00-04:00: Entry Price = 382.7100122070313, Stop Loss = 382.3900146484375\n",
      "Trade triggered at 2024-07-15 15:18:00-04:00: Entry Price = 378.82500244140624, Stop Loss = 378.5499877929687\n",
      "Trade triggered at 2024-07-15 15:32:00-04:00: Entry Price = 379.05000854492187, Stop Loss = 378.6650085449219\n",
      "Trade triggered at 2024-07-17 14:20:00-04:00: Entry Price = 356.78499389648437, Stop Loss = 356.5150146484375\n",
      "Trade triggered at 2024-07-17 15:30:00-04:00: Entry Price = 357.8899133300781, Stop Loss = 357.30999755859375\n",
      "Trade triggered at 2024-07-23 11:00:00-04:00: Entry Price = 270.3900048828125, Stop Loss = 269.55999755859375\n",
      "Trade triggered at 2024-07-23 11:10:00-04:00: Entry Price = 272.1399133300781, Stop Loss = 271.5899963378906\n",
      "Trade triggered at 2024-07-24 13:42:00-04:00: Entry Price = 264.2400109863281, Stop Loss = 263.7200012207031\n",
      "Trade triggered at 2024-07-25 13:02:00-04:00: Entry Price = 259.17009521484374, Stop Loss = 258.5199890136719\n",
      "Trade triggered at 2024-07-26 12:58:00-04:00: Entry Price = 256.33000732421874, Stop Loss = 255.97000122070312\n",
      "Trade triggered at 2024-07-26 14:02:00-04:00: Entry Price = 255.76, Stop Loss = 255.3699951171875\n",
      "Trade triggered at 2024-07-26 14:38:00-04:00: Entry Price = 256.55998779296874, Stop Loss = 256.1000061035156\n",
      "Trade triggered at 2024-07-26 15:32:00-04:00: Entry Price = 256.8799951171875, Stop Loss = 256.54998779296875\n",
      "Trade triggered at 2024-07-26 15:44:00-04:00: Entry Price = 257.1400048828125, Stop Loss = 256.70001220703125\n",
      "Trade triggered at 2024-07-29 11:40:00-04:00: Entry Price = 261.6299951171875, Stop Loss = 260.8500061035156\n",
      "Trade triggered at 2024-07-31 11:02:00-04:00: Entry Price = 234.26, Stop Loss = 233.92999267578125\n",
      "Trade triggered at 2024-07-31 11:28:00-04:00: Entry Price = 235.09500671386718, Stop Loss = 234.7301025390625\n",
      "Trade triggered at 2024-07-31 15:58:00-04:00: Entry Price = 231.8100030517578, Stop Loss = 231.07000732421875\n",
      "Trade triggered at 2024-08-02 13:12:00-04:00: Entry Price = 216.76379943847655, Stop Loss = 216.38999938964844\n",
      "Trade triggered at 2024-08-02 15:36:00-04:00: Entry Price = 217.84000183105468, Stop Loss = 217.50010681152344\n",
      "Trade triggered at 2024-08-02 15:52:00-04:00: Entry Price = 217.73999572753902, Stop Loss = 217.2400054931641\n",
      "Trade triggered at 2024-08-05 11:58:00-04:00: Entry Price = 219.73000122070312, Stop Loss = 218.89810180664065\n",
      "Trade triggered at 2024-08-06 10:10:00-04:00: Entry Price = 228.1799981689453, Stop Loss = 227.4300994873047\n",
      "Trade triggered at 2024-08-06 11:22:00-04:00: Entry Price = 230.05080200195312, Stop Loss = 229.3500061035156\n",
      "Trade triggered at 2024-08-06 13:02:00-04:00: Entry Price = 232.1100061035156, Stop Loss = 231.16140747070312\n",
      "Trade triggered at 2024-08-06 13:52:00-04:00: Entry Price = 232.3900048828125, Stop Loss = 232.0500030517578\n",
      "Trade triggered at 2024-08-07 10:00:00-04:00: Entry Price = 240.68999267578124, Stop Loss = 239.72000122070312\n",
      "Trade triggered at 2024-08-08 11:58:00-04:00: Entry Price = 236.64999938964843, Stop Loss = 236.36000061035156\n",
      "Trade triggered at 2024-08-08 12:46:00-04:00: Entry Price = 239.20999694824218, Stop Loss = 238.72000122070312\n",
      "Trade triggered at 2024-08-08 13:32:00-04:00: Entry Price = 240.9350030517578, Stop Loss = 240.52999877929688\n",
      "Trade triggered at 2024-08-09 10:52:00-04:00: Entry Price = 243.06990600585934, Stop Loss = 242.5583038330078\n",
      "Trade triggered at 2024-08-09 11:00:00-04:00: Entry Price = 244.28000427246096, Stop Loss = 243.5402984619141\n",
      "Trade triggered at 2024-08-12 11:08:00-04:00: Entry Price = 241.3900048828125, Stop Loss = 241.0500030517578\n",
      "Trade triggered at 2024-08-12 13:08:00-04:00: Entry Price = 239.83000732421874, Stop Loss = 239.52000427246097\n",
      "Trade triggered at 2024-08-13 11:04:00-04:00: Entry Price = 244.59000183105468, Stop Loss = 244.3249969482422\n",
      "Trade triggered at 2024-08-13 12:06:00-04:00: Entry Price = 245.3100030517578, Stop Loss = 245.04840087890625\n",
      "Trade triggered at 2024-08-13 13:58:00-04:00: Entry Price = 247.84999633789064, Stop Loss = 247.54010009765625\n",
      "Trade triggered at 2024-08-13 14:10:00-04:00: Entry Price = 248.23390747070312, Stop Loss = 247.9250030517578\n",
      "Trade triggered at 2024-08-13 14:38:00-04:00: Entry Price = 248.73000122070312, Stop Loss = 248.52000427246097\n",
      "Trade triggered at 2024-08-13 15:16:00-04:00: Entry Price = 248.34999633789064, Stop Loss = 248.0747985839844\n",
      "Trade triggered at 2024-08-13 15:36:00-04:00: Entry Price = 248.27499938964843, Stop Loss = 248.0500030517578\n",
      "Trade triggered at 2024-08-14 10:40:00-04:00: Entry Price = 252.64999938964843, Stop Loss = 252.16000366210935\n",
      "Trade triggered at 2024-08-14 11:30:00-04:00: Entry Price = 255.62000061035155, Stop Loss = 255.12860107421875\n",
      "Trade triggered at 2024-08-15 14:08:00-04:00: Entry Price = 260.8799951171875, Stop Loss = 260.5799865722656\n",
      "Trade triggered at 2024-08-16 12:22:00-04:00: Entry Price = 260.21001220703124, Stop Loss = 259.8500061035156\n",
      "Trade triggered at 2024-08-16 12:32:00-04:00: Entry Price = 260.8698937988281, Stop Loss = 260.53009033203125\n",
      "Trade triggered at 2024-08-16 15:34:00-04:00: Entry Price = 261.749990234375, Stop Loss = 261.54998779296875\n",
      "Trade identification and logging completed successfully!\n"
     ]
    },
    {
     "name": "stderr",
     "output_type": "stream",
     "text": [
      "/var/folders/2n/rmtzbdn93h3f2tkgn0yypj300000gn/T/ipykernel_22630/1223130661.py:30: FutureWarning: The behavior of DataFrame concatenation with empty or all-NA entries is deprecated. In a future version, this will no longer exclude empty or all-NA columns when determining the result dtypes. To retain the old behavior, exclude the relevant entries before the concat operation.\n",
      "  trade_log = pd.concat([trade_log, new_trade], ignore_index=True)\n"
     ]
    }
   ],
   "source": [
    "# Load the CRWD data with the latest labels\n",
    "crwd_data = pd.read_csv(\"CRWD_2min_data_with_Trade_Status.csv\", index_col=0, parse_dates=True)\n",
    "\n",
    "# Initialize a DataFrame to record trades\n",
    "trade_log = pd.DataFrame(columns=[\"Entry_Time\", \"Entry_Price\", \"Stop_Loss\", \"Trade_Type\"])\n",
    "\n",
    "# Iterate through the DataFrame to identify and execute trades\n",
    "for i in range(1, len(crwd_data) - 1):\n",
    "    if crwd_data.iloc[i]['Label'] == \"Indicator Bar\":\n",
    "        # Identify the most recent Ignored Bar (either A or B)\n",
    "        recent_ignored_bar_index = i - 1\n",
    "        while crwd_data.iloc[recent_ignored_bar_index]['Label'] not in [\"Ignored Bar A\", \"Ignored Bar B\"]:\n",
    "            recent_ignored_bar_index -= 1\n",
    "\n",
    "        # Condition: Trigger the trade if the current (Indicator Bar) price exceeds the high of the most recent Ignored Bar by $0.01\n",
    "        if crwd_data.iloc[i]['Close'] > crwd_data.iloc[recent_ignored_bar_index]['High'] + 0.01:\n",
    "            # Record the trade\n",
    "            entry_time = crwd_data.index[i]\n",
    "            entry_price = crwd_data.iloc[recent_ignored_bar_index]['High'] + 0.01\n",
    "            stop_loss = crwd_data.iloc[recent_ignored_bar_index]['Low']\n",
    "            \n",
    "            # Log the trade using pd.concat\n",
    "            new_trade = pd.DataFrame({\n",
    "                \"Entry_Time\": [entry_time],\n",
    "                \"Entry_Price\": [entry_price],\n",
    "                \"Stop_Loss\": [stop_loss],\n",
    "                \"Trade_Type\": [\"Buy\"]\n",
    "            })\n",
    "            \n",
    "            trade_log = pd.concat([trade_log, new_trade], ignore_index=True)\n",
    "\n",
    "            print(f\"Trade triggered at {entry_time}: Entry Price = {entry_price}, Stop Loss = {stop_loss}\")\n",
    "\n",
    "# Save the trade log to a new CSV file\n",
    "trade_log.to_csv(\"CRWD_Trade_Log.csv\", index=False)\n",
    "\n",
    "print(\"Trade identification and logging completed successfully!\")\n"
   ]
  }
 ],
 "metadata": {
  "kernelspec": {
   "display_name": "Python 3",
   "language": "python",
   "name": "python3"
  },
  "language_info": {
   "codemirror_mode": {
    "name": "ipython",
    "version": 3
   },
   "file_extension": ".py",
   "mimetype": "text/x-python",
   "name": "python",
   "nbconvert_exporter": "python",
   "pygments_lexer": "ipython3",
   "version": "3.9.6"
  }
 },
 "nbformat": 4,
 "nbformat_minor": 2
}
