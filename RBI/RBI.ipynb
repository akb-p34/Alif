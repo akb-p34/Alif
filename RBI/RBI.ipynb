{
 "cells": [
  {
   "cell_type": "code",
   "execution_count": 2,
   "metadata": {},
   "outputs": [
    {
     "name": "stdout",
     "output_type": "stream",
     "text": [
      "Fetching data for CRWD\n"
     ]
    },
    {
     "name": "stderr",
     "output_type": "stream",
     "text": [
      "[*********************100%%**********************]  1 of 1 completed\n"
     ]
    },
    {
     "name": "stdout",
     "output_type": "stream",
     "text": [
      "Fetching data for NVDA\n"
     ]
    },
    {
     "name": "stderr",
     "output_type": "stream",
     "text": [
      "[*********************100%%**********************]  1 of 1 completed\n"
     ]
    },
    {
     "name": "stdout",
     "output_type": "stream",
     "text": [
      "Fetching data for HD\n"
     ]
    },
    {
     "name": "stderr",
     "output_type": "stream",
     "text": [
      "[*********************100%%**********************]  1 of 1 completed"
     ]
    },
    {
     "name": "stdout",
     "output_type": "stream",
     "text": [
      "Data retrieval and saving complete!\n"
     ]
    },
    {
     "name": "stderr",
     "output_type": "stream",
     "text": [
      "\n"
     ]
    }
   ],
   "source": [
    "import yfinance as yf\n",
    "import pandas as pd\n",
    "import datetime\n",
    "\n",
    "# Define the list of tickers for the selected equities\n",
    "tickers = ['CRWD', 'NVDA', 'HD']\n",
    "\n",
    "# Initialize an empty dictionary to store the data\n",
    "data = {}\n",
    "\n",
    "# Retrieve 2-minute interval data for the past 60 days\n",
    "start_date = (datetime.datetime.now() - datetime.timedelta(days=59)).strftime('%Y-%m-%d')\n",
    "end_date = datetime.datetime.now().strftime('%Y-%m-%d')\n",
    "\n",
    "for ticker in tickers:\n",
    "    print(f\"Fetching data for {ticker}\")\n",
    "    try:\n",
    "        stock_data = yf.download(ticker, start=start_date, end=end_date, interval='2m')\n",
    "        data[ticker] = stock_data\n",
    "        \n",
    "        # Save each stock's data into a separate CSV file\n",
    "        stock_data.to_csv(f\"{ticker}_2min_data.csv\")\n",
    "        \n",
    "    except Exception as e:\n",
    "        print(f\"Could not retrieve data for {ticker}: {e}\")\n",
    "\n",
    "print(\"Data retrieval and saving complete!\")"
   ]
  },
  {
   "cell_type": "code",
   "execution_count": 6,
   "metadata": {},
   "outputs": [
    {
     "name": "stdout",
     "output_type": "stream",
     "text": [
      "Initial data check:\n",
      "                                 Open        High         Low       Close  \\\n",
      "Datetime                                                                    \n",
      "2024-07-08 09:30:00-04:00  390.368011  397.038086  390.279999  395.589996   \n",
      "2024-07-08 09:32:00-04:00  395.704987  396.899994  394.220001  394.220001   \n",
      "2024-07-08 09:34:00-04:00  394.100006  394.334991  383.670013  386.410004   \n",
      "2024-07-08 09:36:00-04:00  385.619995  385.619995  379.790009  382.119995   \n",
      "2024-07-08 09:38:00-04:00  382.434998  385.459900  381.490997  385.230011   \n",
      "\n",
      "                            Adj Close  Volume  \n",
      "Datetime                                       \n",
      "2024-07-08 09:30:00-04:00  395.589996  241134  \n",
      "2024-07-08 09:32:00-04:00  394.220001   95122  \n",
      "2024-07-08 09:34:00-04:00  386.410004  176206  \n",
      "2024-07-08 09:36:00-04:00  382.119995  178854  \n",
      "2024-07-08 09:38:00-04:00  385.230011   80863  \n",
      "SMA columns populated successfully. Sample data:\n",
      "                            20min_SMA  200min_SMA\n",
      "Datetime                                         \n",
      "2024-07-08 12:48:00-04:00  387.350009  387.061303\n",
      "2024-07-08 12:50:00-04:00  387.349509  386.981053\n",
      "2024-07-08 12:52:00-04:00  387.392209  386.917353\n",
      "2024-07-08 12:54:00-04:00  387.464410  386.932753\n",
      "2024-07-08 12:56:00-04:00  387.566412  386.992253\n",
      "Final CSV file saved correctly. Sample data:\n",
      "                            20min_SMA  200min_SMA  Setup\n",
      "Datetime                                                \n",
      "2024-07-08 12:48:00-04:00  387.350009  387.061303   True\n",
      "2024-07-08 12:50:00-04:00  387.349509  386.981053   True\n",
      "2024-07-08 12:52:00-04:00  387.392209  386.917353   True\n",
      "2024-07-08 12:54:00-04:00  387.464410  386.932753   True\n",
      "2024-07-08 12:56:00-04:00  387.566412  386.992253   True\n",
      "Process completed successfully!\n"
     ]
    }
   ],
   "source": [
    "# Load the previously saved CRWD data\n",
    "crwd_data = pd.read_csv(\"CRWD_2min_data.csv\", index_col=0, parse_dates=True)\n",
    "\n",
    "# Check the first few rows of the data to ensure it loaded correctly\n",
    "print(\"Initial data check:\")\n",
    "print(crwd_data.head())\n",
    "\n",
    "# Calculate the 20-minute and 200-minute SMAs\n",
    "crwd_data['20min_SMA'] = crwd_data['Close'].rolling(window=10).mean()  # 20min SMA on a 2min interval is a 10-period SMA\n",
    "crwd_data['200min_SMA'] = crwd_data['Close'].rolling(window=100).mean()  # 200min SMA on a 2min interval is a 100-period SMA\n",
    "\n",
    "# Check if the SMA columns are populated correctly\n",
    "if crwd_data['20min_SMA'].isnull().all() or crwd_data['200min_SMA'].isnull().all():\n",
    "    print(\"Error: SMA columns are not populated correctly. Please check the calculations.\")\n",
    "else:\n",
    "    print(\"SMA columns populated successfully. Sample data:\")\n",
    "    print(crwd_data[['20min_SMA', '200min_SMA']].dropna().head())\n",
    "\n",
    "# Save the updated data with SMAs to the same CSV file or a new one\n",
    "crwd_data.to_csv(\"CRWD_2min_data_with_SMA.csv\")\n",
    "\n",
    "print(\"Process completed successfully! 20min & 200min SMA data added to CSV file!\")"
   ]
  },
  {
   "cell_type": "code",
   "execution_count": 7,
   "metadata": {},
   "outputs": [
    {
     "name": "stdout",
     "output_type": "stream",
     "text": [
      "Final CSV file saved correctly. Sample data:\n",
      "                            20min_SMA  200min_SMA  Setup\n",
      "Datetime                                                \n",
      "2024-07-08 12:48:00-04:00  387.350009  387.061303   True\n",
      "2024-07-08 12:50:00-04:00  387.349509  386.981053   True\n",
      "2024-07-08 12:52:00-04:00  387.392209  386.917353   True\n",
      "2024-07-08 12:54:00-04:00  387.464410  386.932753   True\n",
      "2024-07-08 12:56:00-04:00  387.566412  386.992253   True\n",
      "Process completed successfully!\n"
     ]
    }
   ],
   "source": [
    "# Now add the Setup condition\n",
    "crwd_data['Setup'] = crwd_data['20min_SMA'] > crwd_data['200min_SMA']\n",
    "\n",
    "# Save the updated data with the Setup column to the same or new CSV file\n",
    "crwd_data.to_csv(\"CRWD_2min_data_with_SMA_and_Setup.csv\")\n",
    "\n",
    "# Re-load the final file to confirm everything saved correctly\n",
    "final_data = pd.read_csv(\"CRWD_2min_data_with_SMA_and_Setup.csv\", index_col=0, parse_dates=True)\n",
    "\n",
    "# Check if the SMA and Setup columns are populated in the final CSV\n",
    "if final_data[['20min_SMA', '200min_SMA', 'Setup']].isnull().all().any():\n",
    "    print(\"Error: One or more columns (SMA, Setup) are not populated correctly in the final CSV.\")\n",
    "else:\n",
    "    print(\"Final CSV file saved correctly. Sample data:\")\n",
    "    print(final_data[['20min_SMA', '200min_SMA', 'Setup']].dropna().head())\n",
    "\n",
    "print(\"Process completed successfully! First portion of setup with identifying Picture of Power is complete!\")"
   ]
  },
  {
   "cell_type": "code",
   "execution_count": 5,
   "metadata": {},
   "outputs": [
    {
     "name": "stdout",
     "output_type": "stream",
     "text": [
      "Candlestick labeling completed and saved successfully!\n"
     ]
    }
   ],
   "source": [
    "# Load the CRWD data with SMAs and Setup\n",
    "crwd_data = pd.read_csv(\"CRWD_2min_data_with_SMA_and_Setup.csv\", index_col=0, parse_dates=True)\n",
    "\n",
    "# Initialize all bars as \"Noise Bar\" by default\n",
    "crwd_data['Label'] = \"Noise Bar\"\n",
    "\n",
    "# Identify Control Bars\n",
    "crwd_data.loc[(crwd_data['Close'] > crwd_data['Open']) & (crwd_data['Setup'] == True), 'Label'] = \"Control Bar\"\n",
    "\n",
    "# Iterate through the DataFrame to label Ignored Bars and Indicator Bars\n",
    "for i in range(1, len(crwd_data) - 1):\n",
    "    if crwd_data.iloc[i]['Label'] == \"Control Bar\":\n",
    "        # We have identified a Control Bar; now check subsequent bars\n",
    "\n",
    "        # Check for Ignored Bar A\n",
    "        if (crwd_data.iloc[i + 1]['Close'] < crwd_data.iloc[i + 1]['Open']) and \\\n",
    "           ((crwd_data.iloc[i + 1]['Open'] - crwd_data.iloc[i + 1]['Close']) <= 0.5 * (crwd_data.iloc[i]['Close'] - crwd_data.iloc[i]['Open'])):\n",
    "            crwd_data.iloc[i + 1, crwd_data.columns.get_loc('Label')] = \"Ignored Bar A\"\n",
    "\n",
    "            # Check for Ignored Bar B\n",
    "            if (i + 2 < len(crwd_data)) and \\\n",
    "               (crwd_data.iloc[i + 2]['Close'] < crwd_data.iloc[i + 2]['Open']) and \\\n",
    "               ((crwd_data.iloc[i + 2]['Open'] - crwd_data.iloc[i + 2]['Close']) <= 0.5 * (crwd_data.iloc[i]['Close'] - crwd_data.iloc[i]['Open'])):\n",
    "                crwd_data.iloc[i + 2, crwd_data.columns.get_loc('Label')] = \"Ignored Bar B\"\n",
    "                next_index = i + 2\n",
    "            else:\n",
    "                next_index = i + 1\n",
    "            \n",
    "            # Check for Indicator Bar\n",
    "            if (next_index + 1 < len(crwd_data)) and \\\n",
    "               (crwd_data.iloc[next_index + 1]['Close'] > crwd_data.iloc[next_index + 1]['Open']) and \\\n",
    "               (crwd_data.iloc[next_index + 1]['High'] > crwd_data.iloc[next_index]['High']):\n",
    "                crwd_data.iloc[next_index + 1, crwd_data.columns.get_loc('Label')] = \"Indicator Bar\"\n",
    "\n",
    "# Final Review: Relabel any \"Control Bar\" that is not followed by an \"Ignored Bar\" as a \"Noise Bar\"\n",
    "for i in range(len(crwd_data) - 1):\n",
    "    if crwd_data.iloc[i]['Label'] == \"Control Bar\":\n",
    "        if crwd_data.iloc[i + 1]['Label'] not in [\"Ignored Bar A\", \"Ignored Bar B\"]:\n",
    "            crwd_data.iloc[i, crwd_data.columns.get_loc('Label')] = \"Noise Bar\"\n",
    "\n",
    "# Save the labeled data to a new CSV file\n",
    "crwd_data.to_csv(\"CRWD_2min_data_with_Final_Labels.csv\")\n",
    "\n",
    "print(\"Candlestick labeling completed and saved successfully!\")\n"
   ]
  },
  {
   "cell_type": "code",
   "execution_count": 6,
   "metadata": {},
   "outputs": [
    {
     "name": "stdout",
     "output_type": "stream",
     "text": [
      "Proximity and slope checks completed, and labels applied successfully!\n"
     ]
    }
   ],
   "source": [
    "# Load the CRWD data with final labels\n",
    "crwd_data = pd.read_csv(\"CRWD_2min_data_with_Final_Labels.csv\", index_col=0, parse_dates=True)\n",
    "\n",
    "# Calculate the slope (first derivative) of the 20-minute SMA\n",
    "crwd_data['SMA_20_slope'] = crwd_data['20min_SMA'].diff()\n",
    "\n",
    "# Initialize all bars as \"Empty\"\n",
    "crwd_data['Trade_Status'] = \"Empty\"\n",
    "\n",
    "# Check the conditions after identifying Ignored Bars\n",
    "for i in range(len(crwd_data) - 1):\n",
    "    if crwd_data.iloc[i]['Label'] in [\"Ignored Bar A\", \"Ignored Bar B\"]:\n",
    "        # Condition 1: Check if the closing price is within $1.00 of the 20-minute SMA\n",
    "        proximity_condition = abs(crwd_data.iloc[i]['Close'] - crwd_data.iloc[i]['20min_SMA']) <= 1.00\n",
    "        \n",
    "        # Condition 2: Check if the slope of the 20-minute SMA is positive\n",
    "        slope_condition = crwd_data.iloc[i]['SMA_20_slope'] > 0\n",
    "        \n",
    "        # If both conditions are true, label the bar as \"Primed\"\n",
    "        if proximity_condition and slope_condition:\n",
    "            crwd_data.iloc[i, crwd_data.columns.get_loc('Trade_Status')] = \"Primed\"\n",
    "\n",
    "# Save the updated data with the Trade_Status column to a new CSV file\n",
    "crwd_data.to_csv(\"CRWD_2min_data_with_Trade_Status.csv\")\n",
    "\n",
    "print(\"Proximity and slope checks completed, and labels applied successfully!\")\n"
   ]
  },
  {
   "cell_type": "code",
   "execution_count": 20,
   "metadata": {},
   "outputs": [
    {
     "name": "stderr",
     "output_type": "stream",
     "text": [
      "/var/folders/2n/rmtzbdn93h3f2tkgn0yypj300000gn/T/ipykernel_22630/2179825284.py:68: FutureWarning: The behavior of DataFrame concatenation with empty or all-NA entries is deprecated. In a future version, this will no longer exclude empty or all-NA columns when determining the result dtypes. To retain the old behavior, exclude the relevant entries before the concat operation.\n",
      "  trade_log = pd.concat([trade_log, new_trade], ignore_index=True)\n"
     ]
    },
    {
     "name": "stdout",
     "output_type": "stream",
     "text": [
      "Position closed due to stop loss at 2024-07-08 13:54:00-04:00: Sell Price = 387.635009765625\n",
      "Position closed due to moving away from SMA at 2024-07-08 15:54:00-04:00: Sell Price = 390.9100036621094\n",
      "Position closed due to stop loss at 2024-07-10 14:18:00-04:00: Sell Price = 372.2099914550781\n",
      "Position closed due to moving away from SMA at 2024-07-10 15:34:00-04:00: Sell Price = 373.7000122070313\n",
      "Position closed due to stop loss at 2024-07-12 10:58:00-04:00: Sell Price = 372.1265869140625\n",
      "Position closed due to moving away from SMA at 2024-07-12 11:58:00-04:00: Sell Price = 368.5549926757813\n",
      "Position closed due to stop loss at 2024-07-12 15:30:00-04:00: Sell Price = 371.5950012207031\n",
      "Position closed due to moving away from SMA at 2024-07-15 09:58:00-04:00: Sell Price = 378.0249938964844\n",
      "Position closed due to moving away from SMA at 2024-07-15 10:24:00-04:00: Sell Price = 380.2699890136719\n",
      "Position closed due to moving away from SMA at 2024-07-15 10:54:00-04:00: Sell Price = 382.8200073242187\n",
      "Position closed due to stop loss at 2024-07-15 11:16:00-04:00: Sell Price = 382.2000122070313\n",
      "Position closed due to stop loss at 2024-07-15 15:36:00-04:00: Sell Price = 378.55999755859375\n",
      "Position closed due to stop loss at 2024-07-15 15:38:00-04:00: Sell Price = 378.2000122070313\n",
      "Position closed due to moving away from SMA at 2024-07-17 14:22:00-04:00: Sell Price = 356.9901123046875\n",
      "Position closed due to stop loss at 2024-07-17 15:36:00-04:00: Sell Price = 357.0899963378906\n",
      "Position closed due to moving away from SMA at 2024-07-23 11:02:00-04:00: Sell Price = 271.0\n",
      "Position closed due to moving away from SMA at 2024-07-23 11:12:00-04:00: Sell Price = 273.1499938964844\n",
      "Position closed due to stop loss at 2024-07-24 13:46:00-04:00: Sell Price = 263.19000244140625\n",
      "Position closed due to moving away from SMA at 2024-07-25 13:04:00-04:00: Sell Price = 260.0231018066406\n",
      "Position closed due to moving away from SMA at 2024-07-26 13:34:00-04:00: Sell Price = 255.71299743652344\n",
      "Position closed due to moving away from SMA at 2024-07-26 14:10:00-04:00: Sell Price = 256.9700012207031\n",
      "Position closed due to stop loss at 2024-07-26 14:40:00-04:00: Sell Price = 255.7064971923828\n",
      "Position closed due to stop loss at 2024-07-26 15:34:00-04:00: Sell Price = 256.4849853515625\n",
      "Position closed due to moving away from SMA at 2024-07-26 15:50:00-04:00: Sell Price = 255.72000122070312\n",
      "Position closed due to moving away from SMA at 2024-07-29 11:50:00-04:00: Sell Price = 263.1099853515625\n",
      "Position closed due to stop loss at 2024-07-31 11:34:00-04:00: Sell Price = 234.57000732421875\n",
      "Position closed due to stop loss at 2024-07-31 11:50:00-04:00: Sell Price = 233.860107421875\n",
      "Position closed due to moving away from SMA at 2024-08-01 09:30:00-04:00: Sell Price = 229.6602020263672\n",
      "Position closed due to moving away from SMA at 2024-08-02 13:40:00-04:00: Sell Price = 215.89500427246097\n",
      "Position closed due to stop loss at 2024-08-02 15:38:00-04:00: Sell Price = 217.072998046875\n",
      "Position closed due to moving away from SMA at 2024-08-05 09:30:00-04:00: Sell Price = 209.6999969482422\n",
      "Position closed due to moving away from SMA at 2024-08-05 12:18:00-04:00: Sell Price = 221.8000030517578\n",
      "Position closed due to moving away from SMA at 2024-08-06 10:12:00-04:00: Sell Price = 228.44400024414065\n",
      "Position closed due to stop loss at 2024-08-06 11:26:00-04:00: Sell Price = 229.0500030517578\n",
      "Position closed due to moving away from SMA at 2024-08-06 13:54:00-04:00: Sell Price = 233.2299041748047\n",
      "Position closed due to moving away from SMA at 2024-08-06 13:54:00-04:00: Sell Price = 233.2299041748047\n",
      "Position closed due to moving away from SMA at 2024-08-07 10:08:00-04:00: Sell Price = 242.3000030517578\n",
      "Position closed due to moving away from SMA at 2024-08-08 12:04:00-04:00: Sell Price = 238.55580139160156\n",
      "Position closed due to stop loss at 2024-08-08 13:04:00-04:00: Sell Price = 238.6999969482422\n",
      "Position closed due to stop loss at 2024-08-08 14:50:00-04:00: Sell Price = 240.52000427246097\n",
      "Position closed due to moving away from SMA at 2024-08-09 10:54:00-04:00: Sell Price = 244.30799865722656\n",
      "Position closed due to moving away from SMA at 2024-08-09 11:02:00-04:00: Sell Price = 245.0830993652344\n",
      "Position closed due to stop loss at 2024-08-12 11:14:00-04:00: Sell Price = 240.73500061035156\n",
      "Position closed due to stop loss at 2024-08-12 15:32:00-04:00: Sell Price = 239.5099945068359\n",
      "Position closed due to moving away from SMA at 2024-08-13 12:38:00-04:00: Sell Price = 247.31509399414065\n",
      "Position closed due to moving away from SMA at 2024-08-13 12:38:00-04:00: Sell Price = 247.31509399414065\n",
      "Position closed due to stop loss at 2024-08-13 14:42:00-04:00: Sell Price = 248.10499572753903\n",
      "Position closed due to stop loss at 2024-08-13 14:46:00-04:00: Sell Price = 247.8800048828125\n",
      "Position closed due to stop loss at 2024-08-13 15:20:00-04:00: Sell Price = 247.9900054931641\n",
      "Position closed due to stop loss at 2024-08-13 15:38:00-04:00: Sell Price = 247.80499267578125\n",
      "Position closed due to moving away from SMA at 2024-08-13 15:52:00-04:00: Sell Price = 247.13999938964844\n",
      "Position closed due to moving away from SMA at 2024-08-14 10:46:00-04:00: Sell Price = 254.2899932861328\n",
      "Position closed due to moving away from SMA at 2024-08-14 11:38:00-04:00: Sell Price = 257.1700134277344\n",
      "Position closed due to stop loss at 2024-08-15 14:30:00-04:00: Sell Price = 260.5799865722656\n",
      "Trade identification and logging completed successfully!\n"
     ]
    }
   ],
   "source": [
    "# Load the CRWD data with the latest labels\n",
    "crwd_data = pd.read_csv(\"CRWD_2min_data_with_Trade_Status.csv\", index_col=0, parse_dates=True)\n",
    "\n",
    "# Initialize a DataFrame to record trades\n",
    "trade_log = pd.DataFrame(columns=[\"Entry_Time\", \"Entry_Price\", \"Stop_Loss\", \"Trade_Type\"])\n",
    "\n",
    "# Create a list to track active positions\n",
    "active_positions = []\n",
    "\n",
    "# Iterate through the DataFrame to identify and execute trades\n",
    "for i in range(1, len(crwd_data) - 1):\n",
    "    current_price = crwd_data.iloc[i]['Close']\n",
    "    current_sma = crwd_data.iloc[i]['20min_SMA']\n",
    "    \n",
    "    # Check for each active position\n",
    "    for position in active_positions[:]:  # Use a copy of the list to modify it during iteration\n",
    "        entry_time, entry_price, stop_loss, trade_type = position\n",
    "        \n",
    "        # Condition A: Exit if the price moves $1.00 or more away from the 20-minute SMA\n",
    "        if abs(current_price - current_sma) >= 1.00:\n",
    "            # Log the sell due to moving away from SMA\n",
    "            new_trade = pd.DataFrame({\n",
    "                \"Entry_Time\": [crwd_data.index[i]],\n",
    "                \"Entry_Price\": [current_price],\n",
    "                \"Stop_Loss\": [stop_loss],\n",
    "                \"Trade_Type\": [\"Sell - Away from SMA\"]\n",
    "            })\n",
    "            trade_log = pd.concat([trade_log, new_trade], ignore_index=True)\n",
    "            \n",
    "            # Remove the position from active_positions\n",
    "            active_positions.remove(position)\n",
    "            print(f\"Position closed due to moving away from SMA at {crwd_data.index[i]}: Sell Price = {current_price}\")\n",
    "\n",
    "        # Condition B: Exit if the stop loss is triggered\n",
    "        elif current_price <= stop_loss:\n",
    "            # Log the sell due to stop loss\n",
    "            new_trade = pd.DataFrame({\n",
    "                \"Entry_Time\": [crwd_data.index[i]],\n",
    "                \"Entry_Price\": [current_price],\n",
    "                \"Stop_Loss\": [stop_loss],\n",
    "                \"Trade_Type\": [\"Sell - Stop Loss\"]\n",
    "            })\n",
    "            trade_log = pd.concat([trade_log, new_trade], ignore_index=True)\n",
    "            \n",
    "            # Remove the position from active_positions\n",
    "            active_positions.remove(position)\n",
    "            print(f\"Position closed due to stop loss at {crwd_data.index[i]}: Sell Price = {current_price}\")\n",
    "    \n",
    "    # Check if a new position was opened (from the previous logic)\n",
    "    if crwd_data.iloc[i]['Label'] == \"Indicator Bar\" and \\\n",
    "       crwd_data.iloc[i]['Close'] > crwd_data.iloc[i-1]['High'] + 0.01:\n",
    "        # Record the new buy position\n",
    "        new_position = (\n",
    "            crwd_data.index[i],  # Entry time\n",
    "            crwd_data.iloc[i-1]['High'] + 0.01,  # Entry price\n",
    "            crwd_data.iloc[i-1]['Low'],  # Stop loss\n",
    "            \"Buy\"  # Trade type\n",
    "        )\n",
    "        active_positions.append(new_position)\n",
    "        \n",
    "        # Log the buy\n",
    "        new_trade = pd.DataFrame({\n",
    "            \"Entry_Time\": [crwd_data.index[i]],\n",
    "            \"Entry_Price\": [crwd_data.iloc[i-1]['High'] + 0.01],\n",
    "            \"Stop_Loss\": [crwd_data.iloc[i-1]['Low']],\n",
    "            \"Trade_Type\": [\"Buy\"]\n",
    "        })\n",
    "        trade_log = pd.concat([trade_log, new_trade], ignore_index=True)\n",
    "\n",
    "# Save the trade log to a new CSV file\n",
    "trade_log.to_csv(\"CRWD_Trade_Log.csv\", index=False)\n",
    "\n",
    "print(\"Trade identification and logging completed successfully!\")"
   ]
  },
  {
   "cell_type": "code",
   "execution_count": 21,
   "metadata": {},
   "outputs": [
    {
     "name": "stdout",
     "output_type": "stream",
     "text": [
      "Trade log sorted, rounded, and formatted with two decimal places successfully!\n"
     ]
    }
   ],
   "source": [
    "# Load the existing trade log\n",
    "trade_log = pd.read_csv(\"CRWD_Trade_Log.csv\", parse_dates=[\"Entry_Time\"])\n",
    "\n",
    "# Sort the trade log by Entry_Time in ascending order\n",
    "trade_log = trade_log.sort_values(by=\"Entry_Time\", ascending=True)\n",
    "\n",
    "# Round all monetary values to the nearest hundredth and format to keep two decimal places\n",
    "trade_log[\"Entry_Price\"] = trade_log[\"Entry_Price\"].round(2).apply(lambda x: f\"{x:.2f}\")\n",
    "trade_log[\"Stop_Loss\"] = trade_log[\"Stop_Loss\"].round(2).apply(lambda x: f\"{x:.2f}\")\n",
    "\n",
    "# Save the updated and sorted trade log\n",
    "trade_log.to_csv(\"CRWD_Trade_Log.csv\", index=False)\n",
    "\n",
    "print(\"Trade log sorted, rounded, and formatted with two decimal places successfully!\")"
   ]
  }
 ],
 "metadata": {
  "kernelspec": {
   "display_name": "Python 3",
   "language": "python",
   "name": "python3"
  },
  "language_info": {
   "codemirror_mode": {
    "name": "ipython",
    "version": 3
   },
   "file_extension": ".py",
   "mimetype": "text/x-python",
   "name": "python",
   "nbconvert_exporter": "python",
   "pygments_lexer": "ipython3",
   "version": "3.9.6"
  }
 },
 "nbformat": 4,
 "nbformat_minor": 2
}
