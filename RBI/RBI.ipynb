{
 "cells": [
  {
   "cell_type": "code",
   "execution_count": 2,
   "metadata": {},
   "outputs": [
    {
     "name": "stdout",
     "output_type": "stream",
     "text": [
      "Fetching data for CRWD\n"
     ]
    },
    {
     "name": "stderr",
     "output_type": "stream",
     "text": [
      "[*********************100%%**********************]  1 of 1 completed\n"
     ]
    },
    {
     "name": "stdout",
     "output_type": "stream",
     "text": [
      "Fetching data for NVDA\n"
     ]
    },
    {
     "name": "stderr",
     "output_type": "stream",
     "text": [
      "[*********************100%%**********************]  1 of 1 completed\n"
     ]
    },
    {
     "name": "stdout",
     "output_type": "stream",
     "text": [
      "Fetching data for HD\n"
     ]
    },
    {
     "name": "stderr",
     "output_type": "stream",
     "text": [
      "[*********************100%%**********************]  1 of 1 completed"
     ]
    },
    {
     "name": "stdout",
     "output_type": "stream",
     "text": [
      "Data retrieval and saving complete!\n"
     ]
    },
    {
     "name": "stderr",
     "output_type": "stream",
     "text": [
      "\n"
     ]
    }
   ],
   "source": [
    "import yfinance as yf\n",
    "import pandas as pd\n",
    "import datetime\n",
    "\n",
    "# Define the list of tickers for the selected equities\n",
    "tickers = ['CRWD', 'NVDA', 'HD']\n",
    "\n",
    "# Initialize an empty dictionary to store the data\n",
    "data = {}\n",
    "\n",
    "# Retrieve 2-minute interval data for the past 60 days\n",
    "start_date = (datetime.datetime.now() - datetime.timedelta(days=59)).strftime('%Y-%m-%d')\n",
    "end_date = datetime.datetime.now().strftime('%Y-%m-%d')\n",
    "\n",
    "for ticker in tickers:\n",
    "    print(f\"Fetching data for {ticker}\")\n",
    "    try:\n",
    "        stock_data = yf.download(ticker, start=start_date, end=end_date, interval='2m')\n",
    "        data[ticker] = stock_data\n",
    "        \n",
    "        # Save each stock's data into a separate CSV file\n",
    "        stock_data.to_csv(f\"{ticker}_2min_data.csv\")\n",
    "        \n",
    "    except Exception as e:\n",
    "        print(f\"Could not retrieve data for {ticker}: {e}\")\n",
    "\n",
    "print(\"Data retrieval and saving complete!\")"
   ]
  },
  {
   "cell_type": "code",
   "execution_count": 6,
   "metadata": {},
   "outputs": [
    {
     "name": "stdout",
     "output_type": "stream",
     "text": [
      "Initial data check:\n",
      "                                 Open        High         Low       Close  \\\n",
      "Datetime                                                                    \n",
      "2024-07-08 09:30:00-04:00  390.368011  397.038086  390.279999  395.589996   \n",
      "2024-07-08 09:32:00-04:00  395.704987  396.899994  394.220001  394.220001   \n",
      "2024-07-08 09:34:00-04:00  394.100006  394.334991  383.670013  386.410004   \n",
      "2024-07-08 09:36:00-04:00  385.619995  385.619995  379.790009  382.119995   \n",
      "2024-07-08 09:38:00-04:00  382.434998  385.459900  381.490997  385.230011   \n",
      "\n",
      "                            Adj Close  Volume  \n",
      "Datetime                                       \n",
      "2024-07-08 09:30:00-04:00  395.589996  241134  \n",
      "2024-07-08 09:32:00-04:00  394.220001   95122  \n",
      "2024-07-08 09:34:00-04:00  386.410004  176206  \n",
      "2024-07-08 09:36:00-04:00  382.119995  178854  \n",
      "2024-07-08 09:38:00-04:00  385.230011   80863  \n",
      "SMA columns populated successfully. Sample data:\n",
      "                            20min_SMA  200min_SMA\n",
      "Datetime                                         \n",
      "2024-07-08 12:48:00-04:00  387.350009  387.061303\n",
      "2024-07-08 12:50:00-04:00  387.349509  386.981053\n",
      "2024-07-08 12:52:00-04:00  387.392209  386.917353\n",
      "2024-07-08 12:54:00-04:00  387.464410  386.932753\n",
      "2024-07-08 12:56:00-04:00  387.566412  386.992253\n",
      "Final CSV file saved correctly. Sample data:\n",
      "                            20min_SMA  200min_SMA  Setup\n",
      "Datetime                                                \n",
      "2024-07-08 12:48:00-04:00  387.350009  387.061303   True\n",
      "2024-07-08 12:50:00-04:00  387.349509  386.981053   True\n",
      "2024-07-08 12:52:00-04:00  387.392209  386.917353   True\n",
      "2024-07-08 12:54:00-04:00  387.464410  386.932753   True\n",
      "2024-07-08 12:56:00-04:00  387.566412  386.992253   True\n",
      "Process completed successfully!\n"
     ]
    }
   ],
   "source": [
    "import pandas as pd\n",
    "\n",
    "# Load the previously saved CRWD data\n",
    "crwd_data = pd.read_csv(\"CRWD_2min_data.csv\", index_col=0, parse_dates=True)\n",
    "\n",
    "# Check the first few rows of the data to ensure it loaded correctly\n",
    "print(\"Initial data check:\")\n",
    "print(crwd_data.head())\n",
    "\n",
    "# Calculate the 20-minute and 200-minute SMAs\n",
    "crwd_data['20min_SMA'] = crwd_data['Close'].rolling(window=10).mean()  # 20min SMA on a 2min interval is a 10-period SMA\n",
    "crwd_data['200min_SMA'] = crwd_data['Close'].rolling(window=100).mean()  # 200min SMA on a 2min interval is a 100-period SMA\n",
    "\n",
    "# Check if the SMA columns are populated correctly\n",
    "if crwd_data['20min_SMA'].isnull().all() or crwd_data['200min_SMA'].isnull().all():\n",
    "    print(\"Error: SMA columns are not populated correctly. Please check the calculations.\")\n",
    "else:\n",
    "    print(\"SMA columns populated successfully. Sample data:\")\n",
    "    print(crwd_data[['20min_SMA', '200min_SMA']].dropna().head())\n",
    "\n",
    "# Save the updated data with SMAs to the same CSV file or a new one\n",
    "crwd_data.to_csv(\"CRWD_2min_data_with_SMA.csv\")\n",
    "\n",
    "print(\"Process completed successfully! 20min & 200min SMA data added to CSV file!\")"
   ]
  },
  {
   "cell_type": "code",
   "execution_count": 7,
   "metadata": {},
   "outputs": [
    {
     "name": "stdout",
     "output_type": "stream",
     "text": [
      "Final CSV file saved correctly. Sample data:\n",
      "                            20min_SMA  200min_SMA  Setup\n",
      "Datetime                                                \n",
      "2024-07-08 12:48:00-04:00  387.350009  387.061303   True\n",
      "2024-07-08 12:50:00-04:00  387.349509  386.981053   True\n",
      "2024-07-08 12:52:00-04:00  387.392209  386.917353   True\n",
      "2024-07-08 12:54:00-04:00  387.464410  386.932753   True\n",
      "2024-07-08 12:56:00-04:00  387.566412  386.992253   True\n",
      "Process completed successfully!\n"
     ]
    }
   ],
   "source": [
    "# Now add the Setup condition\n",
    "crwd_data['Setup'] = crwd_data['20min_SMA'] > crwd_data['200min_SMA']\n",
    "\n",
    "# Save the updated data with the Setup column to the same or new CSV file\n",
    "crwd_data.to_csv(\"CRWD_2min_data_with_SMA_and_Setup.csv\")\n",
    "\n",
    "# Re-load the final file to confirm everything saved correctly\n",
    "final_data = pd.read_csv(\"CRWD_2min_data_with_SMA_and_Setup.csv\", index_col=0, parse_dates=True)\n",
    "\n",
    "# Check if the SMA and Setup columns are populated in the final CSV\n",
    "if final_data[['20min_SMA', '200min_SMA', 'Setup']].isnull().all().any():\n",
    "    print(\"Error: One or more columns (SMA, Setup) are not populated correctly in the final CSV.\")\n",
    "else:\n",
    "    print(\"Final CSV file saved correctly. Sample data:\")\n",
    "    print(final_data[['20min_SMA', '200min_SMA', 'Setup']].dropna().head())\n",
    "\n",
    "print(\"Process completed successfully!\")"
   ]
  }
 ],
 "metadata": {
  "kernelspec": {
   "display_name": "Python 3",
   "language": "python",
   "name": "python3"
  },
  "language_info": {
   "codemirror_mode": {
    "name": "ipython",
    "version": 3
   },
   "file_extension": ".py",
   "mimetype": "text/x-python",
   "name": "python",
   "nbconvert_exporter": "python",
   "pygments_lexer": "ipython3",
   "version": "3.9.6"
  }
 },
 "nbformat": 4,
 "nbformat_minor": 2
}
