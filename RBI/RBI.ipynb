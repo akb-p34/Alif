{
 "cells": [
  {
   "cell_type": "markdown",
   "metadata": {},
   "source": [
    "RBI Strategy - Introduced by Oliver Velez, Perfected by Akbar Pathan"
   ]
  },
  {
   "cell_type": "markdown",
   "metadata": {},
   "source": [
    "Importing necessary libraries"
   ]
  },
  {
   "cell_type": "code",
   "execution_count": 53,
   "metadata": {},
   "outputs": [],
   "source": [
    "import yfinance as yf\n",
    "import pandas as pd\n",
    "import datetime\n",
    "import numpy as np\n",
    "import math\n",
    "import matplotlib.pyplot as plt\n",
    "from matplotlib.dates import date2num, DateFormatter\n",
    "import os"
   ]
  },
  {
   "cell_type": "markdown",
   "metadata": {},
   "source": [
    "Downloading 2min price data of SPY & all tickers in the S&P500"
   ]
  },
  {
   "cell_type": "code",
   "execution_count": 36,
   "metadata": {},
   "outputs": [
    {
     "name": "stdout",
     "output_type": "stream",
     "text": [
      "Fetching data for SPY\n"
     ]
    },
    {
     "name": "stderr",
     "output_type": "stream",
     "text": [
      "[*********************100%%**********************]  1 of 1 completed\n",
      "[*********************100%%**********************]  1 of 1 completed\n",
      "[*********************100%%**********************]  1 of 1 completed\n",
      "[*********************100%%**********************]  1 of 1 completed\n"
     ]
    },
    {
     "name": "stdout",
     "output_type": "stream",
     "text": [
      "Fetching data for CRWD\n",
      "Fetching data for NVDA\n",
      "Fetching data for HD\n",
      "Data retrieval and saving complete!\n"
     ]
    }
   ],
   "source": [
    "# Define the list of tickers for the selected equities\n",
    "tickers = ['SPY', 'CRWD', 'NVDA', 'HD']\n",
    "\n",
    "# Initialize an empty dictionary to store the data\n",
    "data = {}\n",
    "\n",
    "# Retrieve 2-minute interval data for the past 60 days\n",
    "start_date = (datetime.datetime.now() - datetime.timedelta(days=59)).strftime('%Y-%m-%d')\n",
    "end_date = datetime.datetime.now().strftime('%Y-%m-%d')\n",
    "\n",
    "for ticker in tickers:\n",
    "    print(f\"Fetching data for {ticker}\")\n",
    "    try:\n",
    "        stock_data = yf.download(ticker, start=start_date, end=end_date, interval='2m')\n",
    "        data[ticker] = stock_data\n",
    "        \n",
    "        # Save each stock's data into a separate CSV file\n",
    "        stock_data.to_csv(f\"{ticker}_2min_data.csv\")\n",
    "        \n",
    "    except Exception as e:\n",
    "        print(f\"Could not retrieve data for {ticker}: {e}\")\n",
    "\n",
    "print(\"Data retrieval and saving complete!\")"
   ]
  },
  {
   "cell_type": "code",
   "execution_count": 54,
   "metadata": {},
   "outputs": [
    {
     "name": "stderr",
     "output_type": "stream",
     "text": [
      "[*********************100%%**********************]  1 of 1 completed\n",
      "[*********************100%%**********************]  1 of 1 completed"
     ]
    },
    {
     "name": "stdout",
     "output_type": "stream",
     "text": [
      "Fetching data for SPY\n",
      "Fetching data for CRWD\n",
      "Fetching data for NVDA\n"
     ]
    },
    {
     "name": "stderr",
     "output_type": "stream",
     "text": [
      "\n",
      "[*********************100%%**********************]  1 of 1 completed\n",
      "[*********************100%%**********************]  1 of 1 completed\n"
     ]
    },
    {
     "name": "stdout",
     "output_type": "stream",
     "text": [
      "Fetching data for HD\n",
      "Data retrieval and saving complete!\n"
     ]
    }
   ],
   "source": [
    "# Define the list of tickers for the selected equities\n",
    "tickers = ['SPY', 'CRWD', 'NVDA', 'HD']\n",
    "\n",
    "# Initialize an empty dictionary to store the data\n",
    "data = {}\n",
    "\n",
    "# Retrieve 2-minute interval data for the past 60 days\n",
    "start_date = (datetime.datetime.now() - datetime.timedelta(days=59)).strftime('%Y-%m-%d')\n",
    "end_date = datetime.datetime.now().strftime('%Y-%m-%d')\n",
    "\n",
    "for ticker in tickers:\n",
    "    print(f\"Fetching data for {ticker}\")\n",
    "    try:\n",
    "        # Create a directory for the ticker if it doesn't already exist\n",
    "        ticker_folder = os.path.join(os.getcwd(), ticker)\n",
    "        if not os.path.exists(ticker_folder):\n",
    "            os.makedirs(ticker_folder)\n",
    "        \n",
    "        # Fetch the 2-minute interval data\n",
    "        stock_data = yf.download(ticker, start=start_date, end=end_date, interval='2m')\n",
    "        data[ticker] = stock_data\n",
    "        \n",
    "        # Save the stock data into a CSV file inside the respective ticker's folder\n",
    "        stock_data.to_csv(os.path.join(ticker_folder, f\"{ticker}_2min_data.csv\"))\n",
    "        \n",
    "    except Exception as e:\n",
    "        print(f\"Could not retrieve data for {ticker}: {e}\")\n",
    "\n",
    "print(\"Data retrieval and saving complete!\")\n"
   ]
  },
  {
   "cell_type": "markdown",
   "metadata": {},
   "source": [
    "Adding 20min & 200min SMA data to each 2min Data file"
   ]
  },
  {
   "cell_type": "code",
   "execution_count": 47,
   "metadata": {},
   "outputs": [
    {
     "name": "stdout",
     "output_type": "stream",
     "text": [
      "Initial data check:\n",
      "                                 Open        High         Low       Close  \\\n",
      "Datetime                                                                    \n",
      "2024-07-15 09:30:00-04:00  372.269989  372.299988  369.510010  370.089996   \n",
      "2024-07-15 09:32:00-04:00  370.084991  370.084991  367.765015  368.000000   \n",
      "2024-07-15 09:34:00-04:00  367.940002  367.940002  364.209991  366.380005   \n",
      "2024-07-15 09:36:00-04:00  365.989990  368.500000  365.895996  368.459991   \n",
      "2024-07-15 09:38:00-04:00  368.579987  372.489899  368.579987  372.191101   \n",
      "\n",
      "                            Adj Close  Volume  \n",
      "Datetime                                       \n",
      "2024-07-15 09:30:00-04:00  370.089996  112751  \n",
      "2024-07-15 09:32:00-04:00  368.000000   20365  \n",
      "2024-07-15 09:34:00-04:00  366.380005  135513  \n",
      "2024-07-15 09:36:00-04:00  368.459991   80392  \n",
      "2024-07-15 09:38:00-04:00  372.191101   58716  \n",
      "SMA columns populated successfully. Sample data:\n",
      "                            20min_SMA  200min_SMA\n",
      "Datetime                                         \n",
      "2024-07-15 12:48:00-04:00  377.356198  378.684351\n",
      "2024-07-15 12:50:00-04:00  377.532697  378.760251\n",
      "2024-07-15 12:52:00-04:00  377.660696  378.857701\n",
      "2024-07-15 12:54:00-04:00  377.714557  378.968901\n",
      "2024-07-15 12:56:00-04:00  377.739047  379.061801\n",
      "Process completed successfully! 20min & 200min SMA data added to CSV file!\n"
     ]
    }
   ],
   "source": [
    "# Load the previously saved CRWD data\n",
    "crwd_data = pd.read_csv(\"CRWD_2min_data.csv\", index_col=0, parse_dates=True)\n",
    "\n",
    "# Check the first few rows of the data to ensure it loaded correctly\n",
    "print(\"Initial data check:\")\n",
    "print(crwd_data.head())\n",
    "\n",
    "# Calculate the 20-minute and 200-minute SMAs\n",
    "crwd_data['20min_SMA'] = crwd_data['Close'].rolling(window=10).mean()  # 20min SMA on a 2min interval is a 10-period SMA\n",
    "crwd_data['200min_SMA'] = crwd_data['Close'].rolling(window=100).mean()  # 200min SMA on a 2min interval is a 100-period SMA\n",
    "\n",
    "# Check if the SMA columns are populated correctly\n",
    "if crwd_data['20min_SMA'].isnull().all() or crwd_data['200min_SMA'].isnull().all():\n",
    "    print(\"Error: SMA columns are not populated correctly. Please check the calculations.\")\n",
    "else:\n",
    "    print(\"SMA columns populated successfully. Sample data:\")\n",
    "    print(crwd_data[['20min_SMA', '200min_SMA']].dropna().head())\n",
    "\n",
    "# Save the updated data with SMAs to the same CSV file\n",
    "crwd_data.to_csv(\"CRWD_2min_data.csv\")\n",
    "\n",
    "print(\"Process completed successfully! 20min & 200min SMA data added to CSV file!\")"
   ]
  },
  {
   "cell_type": "markdown",
   "metadata": {},
   "source": [
    "Adding column to check if setup for the strategy (Picture of Power) is 'activated' at each time"
   ]
  },
  {
   "cell_type": "code",
   "execution_count": 48,
   "metadata": {},
   "outputs": [
    {
     "name": "stdout",
     "output_type": "stream",
     "text": [
      "Final CSV file saved correctly. Sample data:\n",
      "                            20min_SMA  200min_SMA  Setup\n",
      "Datetime                                                \n",
      "2024-07-15 12:48:00-04:00  377.356198  378.684351  False\n",
      "2024-07-15 12:50:00-04:00  377.532697  378.760251  False\n",
      "2024-07-15 12:52:00-04:00  377.660696  378.857701  False\n",
      "2024-07-15 12:54:00-04:00  377.714557  378.968901  False\n",
      "2024-07-15 12:56:00-04:00  377.739047  379.061801  False\n",
      "Process completed successfully! First portion of setup with identifying Picture of Power is complete!\n"
     ]
    }
   ],
   "source": [
    "# Load the previously saved CRWD data (with the SMAs already calculated and saved in the previous step)\n",
    "crwd_data = pd.read_csv(\"CRWD_2min_data.csv\", index_col=0, parse_dates=True)\n",
    "\n",
    "# Now add the Setup condition\n",
    "crwd_data['Setup'] = crwd_data['20min_SMA'] > crwd_data['200min_SMA']\n",
    "\n",
    "# Save the updated data with the Setup column to the same CSV file\n",
    "crwd_data.to_csv(\"CRWD_2min_data.csv\")\n",
    "\n",
    "# Re-load the final file to confirm everything saved correctly\n",
    "final_data = pd.read_csv(\"CRWD_2min_data.csv\", index_col=0, parse_dates=True)\n",
    "\n",
    "# Check if the SMA and Setup columns are populated in the final CSV\n",
    "if final_data[['20min_SMA', '200min_SMA', 'Setup']].isnull().all().any():\n",
    "    print(\"Error: One or more columns (SMA, Setup) are not populated correctly in the final CSV.\")\n",
    "else:\n",
    "    print(\"Final CSV file saved correctly. Sample data:\")\n",
    "    print(final_data[['20min_SMA', '200min_SMA', 'Setup']].dropna().head())\n",
    "\n",
    "print(\"Process completed successfully! First portion of setup with identifying Picture of Power is complete!\")\n"
   ]
  },
  {
   "cell_type": "markdown",
   "metadata": {},
   "source": [
    "Identifying & Labeling each candlestick appropriately"
   ]
  },
  {
   "cell_type": "code",
   "execution_count": 49,
   "metadata": {},
   "outputs": [
    {
     "name": "stdout",
     "output_type": "stream",
     "text": [
      "Candlestick labeling completed and saved successfully!\n"
     ]
    }
   ],
   "source": [
    "# Load the CRWD data with SMAs and Setup\n",
    "crwd_data = pd.read_csv(\"CRWD_2min_data.csv\", index_col=0, parse_dates=True)\n",
    "\n",
    "# Initialize all bars as \"Noise Bar\" by default\n",
    "crwd_data['Label'] = \"Noise Bar\"\n",
    "\n",
    "# Identify Control Bars\n",
    "crwd_data.loc[(crwd_data['Close'] > crwd_data['Open']) & (crwd_data['Setup'] == True), 'Label'] = \"Control Bar\"\n",
    "\n",
    "# Iterate through the DataFrame to label Ignored Bars and Indicator Bars\n",
    "for i in range(1, len(crwd_data) - 1):\n",
    "    if crwd_data.iloc[i]['Label'] == \"Control Bar\":\n",
    "        # We have identified a Control Bar; now check subsequent bars\n",
    "\n",
    "        # Check for Ignored Bar A\n",
    "        if (crwd_data.iloc[i + 1]['Close'] < crwd_data.iloc[i + 1]['Open']) and \\\n",
    "           ((crwd_data.iloc[i + 1]['Open'] - crwd_data.iloc[i + 1]['Close']) <= 0.5 * (crwd_data.iloc[i]['Close'] - crwd_data.iloc[i]['Open'])):\n",
    "            crwd_data.iloc[i + 1, crwd_data.columns.get_loc('Label')] = \"Ignored Bar A\"\n",
    "\n",
    "            # Check for Ignored Bar B\n",
    "            if (i + 2 < len(crwd_data)) and \\\n",
    "               (crwd_data.iloc[i + 2]['Close'] < crwd_data.iloc[i + 2]['Open']) and \\\n",
    "               ((crwd_data.iloc[i + 2]['Open'] - crwd_data.iloc[i + 2]['Close']) <= 0.5 * (crwd_data.iloc[i]['Close'] - crwd_data.iloc[i]['Open'])):\n",
    "                crwd_data.iloc[i + 2, crwd_data.columns.get_loc('Label')] = \"Ignored Bar B\"\n",
    "                next_index = i + 2\n",
    "            else:\n",
    "                next_index = i + 1\n",
    "            \n",
    "            # Check for Indicator Bar\n",
    "            if (next_index + 1 < len(crwd_data)) and \\\n",
    "               (crwd_data.iloc[next_index + 1]['Close'] > crwd_data.iloc[next_index + 1]['Open']) and \\\n",
    "               (crwd_data.iloc[next_index + 1]['High'] > crwd_data.iloc[next_index]['High']):\n",
    "                crwd_data.iloc[next_index + 1, crwd_data.columns.get_loc('Label')] = \"Indicator Bar\"\n",
    "\n",
    "# Final Review: Relabel any \"Control Bar\" that is not followed by an \"Ignored Bar\" as a \"Noise Bar\"\n",
    "for i in range(len(crwd_data) - 1):\n",
    "    if crwd_data.iloc[i]['Label'] == \"Control Bar\":\n",
    "        if crwd_data.iloc[i + 1]['Label'] not in [\"Ignored Bar A\", \"Ignored Bar B\"]:\n",
    "            crwd_data.iloc[i, crwd_data.columns.get_loc('Label')] = \"Noise Bar\"\n",
    "\n",
    "# Save the labeled data to the same CSV file\n",
    "crwd_data.to_csv(\"CRWD_2min_data.csv\")\n",
    "\n",
    "print(\"Candlestick labeling completed and saved successfully!\")\n"
   ]
  },
  {
   "cell_type": "markdown",
   "metadata": {},
   "source": [
    "Checking if 20min SMA is 'close' to the current price & if 20min SMA's slope is positive. This piece of code also identitifes each point at which the data is ready for a trade."
   ]
  },
  {
   "cell_type": "code",
   "execution_count": 50,
   "metadata": {},
   "outputs": [
    {
     "name": "stdout",
     "output_type": "stream",
     "text": [
      "Proximity and slope checks completed, and labels applied successfully!\n"
     ]
    }
   ],
   "source": [
    "# Load the CRWD data with final labels\n",
    "crwd_data = pd.read_csv(\"CRWD_2min_data.csv\", index_col=0, parse_dates=True)\n",
    "\n",
    "# Calculate the slope (first derivative) of the 20-minute SMA\n",
    "crwd_data['SMA_20_slope'] = crwd_data['20min_SMA'].diff()\n",
    "\n",
    "# Initialize all bars as \"Empty\"\n",
    "crwd_data['Trade_Status'] = \"Empty\"\n",
    "\n",
    "# Check the conditions after identifying Ignored Bars\n",
    "for i in range(len(crwd_data) - 1):\n",
    "    if crwd_data.iloc[i]['Label'] in [\"Ignored Bar A\", \"Ignored Bar B\"]:\n",
    "        # Condition 1: Check if the closing price is within $1.00 of the 20-minute SMA\n",
    "        proximity_condition = abs(crwd_data.iloc[i]['Close'] - crwd_data.iloc[i]['20min_SMA']) <= 1.00\n",
    "        \n",
    "        # Condition 2: Check if the slope of the 20-minute SMA is positive\n",
    "        slope_condition = crwd_data.iloc[i]['SMA_20_slope'] > 0\n",
    "        \n",
    "        # If both conditions are true, label the bar as \"Primed\"\n",
    "        if proximity_condition and slope_condition:\n",
    "            crwd_data.iloc[i, crwd_data.columns.get_loc('Trade_Status')] = \"Primed\"\n",
    "\n",
    "# Save the updated data with the Trade_Status column to the same CSV file\n",
    "crwd_data.to_csv(\"CRWD_2min_data.csv\")\n",
    "\n",
    "print(\"Proximity and slope checks completed, and labels applied successfully!\")"
   ]
  },
  {
   "cell_type": "markdown",
   "metadata": {},
   "source": [
    "Cleaning all data by rounding values"
   ]
  },
  {
   "cell_type": "code",
   "execution_count": 51,
   "metadata": {},
   "outputs": [
    {
     "name": "stdout",
     "output_type": "stream",
     "text": [
      "CRWD_2min_data.csv has been cleaned and saved successfully.\n"
     ]
    }
   ],
   "source": [
    "# Load the data from CRWD_2min_data.csv\n",
    "crwd_data = pd.read_csv(\"CRWD_2min_data.csv\", index_col=0, parse_dates=True)\n",
    "\n",
    "# Round all numerical values to the nearest thousandth and format to three decimal places\n",
    "for column in crwd_data.select_dtypes(include=['float64', 'int64']).columns:\n",
    "    crwd_data[column] = crwd_data[column].round(3).apply(lambda x: f\"{x:.3f}\")\n",
    "\n",
    "# Save the cleaned-up data back to the same CSV file\n",
    "crwd_data.to_csv(\"CRWD_2min_data.csv\")\n",
    "\n",
    "print(\"CRWD_2min_data.csv has been cleaned and saved successfully.\")"
   ]
  },
  {
   "cell_type": "markdown",
   "metadata": {},
   "source": [
    "Executing trades and saving data to Ticker's Trade Log"
   ]
  },
  {
   "cell_type": "code",
   "execution_count": 42,
   "metadata": {},
   "outputs": [
    {
     "name": "stdout",
     "output_type": "stream",
     "text": [
      "Position with Trade ID 2 closed due to stop loss at 2024-07-15 15:36:00-04:00: Sell Price = 378.6550085449219\n",
      "Position with Trade ID 1 closed due to stop loss at 2024-07-15 15:38:00-04:00: Sell Price = 378.5399877929687\n",
      "Position with Trade ID 3 closed due to SMA divergence at 2024-07-17 14:22:00-04:00: Sell Price = 357.2799987792969\n",
      "Position with Trade ID 4 closed due to stop loss at 2024-07-17 15:32:00-04:00: Sell Price = 357.29999755859376\n"
     ]
    },
    {
     "name": "stderr",
     "output_type": "stream",
     "text": [
      "/var/folders/2n/rmtzbdn93h3f2tkgn0yypj300000gn/T/ipykernel_18989/3565917844.py:94: FutureWarning: The behavior of DataFrame concatenation with empty or all-NA entries is deprecated. In a future version, this will no longer exclude empty or all-NA columns when determining the result dtypes. To retain the old behavior, exclude the relevant entries before the concat operation.\n",
      "  trade_log = pd.concat([trade_log, pd.DataFrame({\n"
     ]
    },
    {
     "name": "stdout",
     "output_type": "stream",
     "text": [
      "Position with Trade ID 5 closed due to SMA divergence at 2024-07-23 11:02:00-04:00: Sell Price = 271.3500061035156\n",
      "Position with Trade ID 6 closed due to SMA divergence at 2024-07-23 11:12:00-04:00: Sell Price = 273.2250061035156\n",
      "Position with Trade ID 7 closed due to stop loss at 2024-07-24 13:46:00-04:00: Sell Price = 263.71000122070313\n",
      "Position with Trade ID 8 closed due to SMA divergence at 2024-07-25 13:04:00-04:00: Sell Price = 260.1098937988281\n",
      "Position with Trade ID 9 closed due to stop loss at 2024-07-26 13:34:00-04:00: Sell Price = 255.96000122070313\n",
      "Position with Trade ID 10 closed due to SMA divergence at 2024-07-26 14:08:00-04:00: Sell Price = 256.92999267578125\n",
      "Position with Trade ID 11 closed due to stop loss at 2024-07-26 14:40:00-04:00: Sell Price = 256.09000610351563\n",
      "Position with Trade ID 12 closed due to stop loss at 2024-07-26 15:34:00-04:00: Sell Price = 256.53998779296876\n",
      "Position with Trade ID 13 closed due to stop loss at 2024-07-26 15:50:00-04:00: Sell Price = 256.69001220703126\n",
      "Position with Trade ID 14 closed due to SMA divergence at 2024-07-29 11:44:00-04:00: Sell Price = 262.7200012207031\n",
      "Position with Trade ID 15 closed due to stop loss at 2024-07-31 11:04:00-04:00: Sell Price = 233.91999267578126\n",
      "Position with Trade ID 16 closed due to stop loss at 2024-07-31 11:34:00-04:00: Sell Price = 234.7201025390625\n",
      "Position with Trade ID 17 closed due to stop loss at 2024-08-01 09:30:00-04:00: Sell Price = 231.06000732421876\n",
      "Position with Trade ID 18 closed due to SMA divergence at 2024-08-02 13:18:00-04:00: Sell Price = 217.5800018310547\n",
      "Position with Trade ID 19 closed due to stop loss at 2024-08-02 15:38:00-04:00: Sell Price = 217.49010681152345\n",
      "Position with Trade ID 20 closed due to stop loss at 2024-08-05 09:30:00-04:00: Sell Price = 217.2300054931641\n",
      "Position with Trade ID 21 closed due to SMA divergence at 2024-08-05 12:04:00-04:00: Sell Price = 220.66000366210935\n",
      "Position with Trade ID 22 closed due to stop loss at 2024-08-06 10:12:00-04:00: Sell Price = 227.4200994873047\n",
      "Position with Trade ID 23 closed due to stop loss at 2024-08-06 11:24:00-04:00: Sell Price = 229.3400061035156\n",
      "Position with Trade ID 24 closed due to stop loss at 2024-08-06 13:12:00-04:00: Sell Price = 231.15140747070313\n",
      "Position with Trade ID 25 closed due to SMA divergence at 2024-08-06 13:54:00-04:00: Sell Price = 233.4290008544922\n",
      "Position with Trade ID 26 closed due to SMA divergence at 2024-08-07 10:02:00-04:00: Sell Price = 242.6699981689453\n",
      "Position with Trade ID 27 closed due to SMA divergence at 2024-08-08 12:04:00-04:00: Sell Price = 238.97000122070312\n",
      "Position with Trade ID 28 closed due to stop loss at 2024-08-08 13:02:00-04:00: Sell Price = 238.71000122070313\n",
      "Position with Trade ID 29 closed due to stop loss at 2024-08-08 13:36:00-04:00: Sell Price = 240.51999877929688\n",
      "Position with Trade ID 30 closed due to SMA divergence at 2024-08-09 10:54:00-04:00: Sell Price = 244.63999938964844\n",
      "Position with Trade ID 31 closed due to SMA divergence at 2024-08-09 11:02:00-04:00: Sell Price = 245.0830993652344\n",
      "Position with Trade ID 32 closed due to SMA divergence at 2024-08-12 11:10:00-04:00: Sell Price = 241.69500732421875\n",
      "Position with Trade ID 33 closed due to stop loss at 2024-08-12 13:50:00-04:00: Sell Price = 239.51000427246098\n",
      "Position with Trade ID 34 closed due to SMA divergence at 2024-08-13 12:38:00-04:00: Sell Price = 247.3999938964844\n",
      "Position with Trade ID 35 closed due to SMA divergence at 2024-08-13 12:38:00-04:00: Sell Price = 247.3999938964844\n",
      "Position with Trade ID 38 closed due to stop loss at 2024-08-13 14:40:00-04:00: Sell Price = 248.51000427246098\n",
      "Position with Trade ID 37 closed due to stop loss at 2024-08-13 14:44:00-04:00: Sell Price = 247.91500305175782\n",
      "Position with Trade ID 39 closed due to stop loss at 2024-08-13 15:20:00-04:00: Sell Price = 248.0647985839844\n",
      "Position with Trade ID 40 closed due to stop loss at 2024-08-13 15:38:00-04:00: Sell Price = 248.04000305175782\n",
      "Position with Trade ID 36 closed due to stop loss at 2024-08-13 15:52:00-04:00: Sell Price = 247.53010009765626\n",
      "Position with Trade ID 41 closed due to SMA divergence at 2024-08-14 10:42:00-04:00: Sell Price = 254.30999755859375\n",
      "Position with Trade ID 42 closed due to SMA divergence at 2024-08-14 11:36:00-04:00: Sell Price = 256.3999938964844\n",
      "Position with Trade ID 43 closed due to stop loss at 2024-08-15 14:16:00-04:00: Sell Price = 260.56998657226563\n",
      "Position with Trade ID 44 closed due to SMA divergence at 2024-08-16 12:36:00-04:00: Sell Price = 261.7998962402344\n",
      "Position with Trade ID 45 closed due to SMA divergence at 2024-08-16 12:36:00-04:00: Sell Price = 261.7998962402344\n",
      "Position with Trade ID 46 closed due to stop loss at 2024-08-16 15:46:00-04:00: Sell Price = 261.53998779296876\n",
      "Position with Trade ID 47 closed due to SMA divergence at 2024-08-19 09:40:00-04:00: Sell Price = 266.9999084472656\n",
      "Position with Trade ID 49 closed due to stop loss at 2024-08-19 14:56:00-04:00: Sell Price = 267.080087890625\n",
      "Position with Trade ID 48 closed due to stop loss at 2024-08-19 15:06:00-04:00: Sell Price = 266.5001013183594\n",
      "Position with Trade ID 50 closed due to stop loss at 2024-08-20 12:34:00-04:00: Sell Price = 266.69498657226563\n",
      "Position with Trade ID 51 closed due to stop loss at 2024-08-20 14:52:00-04:00: Sell Price = 266.93009399414063\n",
      "Position with Trade ID 52 closed due to SMA divergence at 2024-08-21 09:40:00-04:00: Sell Price = 270.2850036621094\n",
      "Position with Trade ID 53 closed due to SMA divergence at 2024-08-21 10:42:00-04:00: Sell Price = 273.8299865722656\n",
      "Position with Trade ID 54 closed due to stop loss at 2024-08-21 13:20:00-04:00: Sell Price = 270.79999755859376\n",
      "Position with Trade ID 55 closed due to SMA divergence at 2024-08-21 15:48:00-04:00: Sell Price = 273.17999267578125\n",
      "Position with Trade ID 56 closed due to SMA divergence at 2024-08-21 15:48:00-04:00: Sell Price = 273.17999267578125\n",
      "Trade identification and logging completed successfully!\n"
     ]
    }
   ],
   "source": [
    "# Load the CRWD data with the latest labels\n",
    "crwd_data = pd.read_csv(\"CRWD_2min_data.csv\", index_col=0, parse_dates=True)\n",
    "\n",
    "# Initialize a DataFrame to record trades\n",
    "trade_log = pd.DataFrame(columns=[\"Entry_Time\", \"Action_Price\", \"Stop_Loss\", \"Trade_Type\", \"Trade_ID\"])\n",
    "\n",
    "# Create a list to track active positions with Trade IDs\n",
    "active_positions = []\n",
    "\n",
    "# Function to find the most recent Ignored Bar and calculate the stop loss\n",
    "def calculate_stop_loss(index):\n",
    "    recent_ignored_bar_index = index - 1\n",
    "    while recent_ignored_bar_index >= 0 and crwd_data.iloc[recent_ignored_bar_index]['Label'] not in [\"Ignored Bar A\", \"Ignored Bar B\"]:\n",
    "        recent_ignored_bar_index -= 1\n",
    "    stop_loss = crwd_data.iloc[recent_ignored_bar_index]['Low'] - 0.01\n",
    "    return stop_loss\n",
    "\n",
    "# Unique Trade ID generator\n",
    "trade_id_counter = 1\n",
    "\n",
    "# Iterate through the DataFrame to identify and execute trades\n",
    "for i in range(1, len(crwd_data) - 1):\n",
    "    current_open = crwd_data.iloc[i]['Open']\n",
    "    current_high = crwd_data.iloc[i]['High']\n",
    "    current_low = crwd_data.iloc[i]['Low']\n",
    "    current_close = crwd_data.iloc[i]['Close']\n",
    "    current_sma = crwd_data.iloc[i]['20min_SMA']\n",
    "    \n",
    "    # Check for each active position\n",
    "    for position in active_positions[:]:  # Use a copy of the list to modify it during iteration\n",
    "        entry_time, entry_price, stop_loss, trade_type, trade_id = position\n",
    "        \n",
    "        # Check for stop loss first, by comparing the low price\n",
    "        if current_low <= stop_loss:\n",
    "            action_price = stop_loss  # Sell at the stop loss price\n",
    "            # Log the sell due to stop loss\n",
    "            trade_log = pd.concat([trade_log, pd.DataFrame({\n",
    "                \"Entry_Time\": [crwd_data.index[i]],\n",
    "                \"Action_Price\": [action_price],\n",
    "                \"Stop_Loss\": [stop_loss],\n",
    "                \"Trade_Type\": [\"Sell - Stop Loss\"],\n",
    "                \"Trade_ID\": [trade_id]\n",
    "            })], ignore_index=True)\n",
    "            \n",
    "            # Remove the position from active_positions\n",
    "            active_positions.remove(position)\n",
    "            print(f\"Position with Trade ID {trade_id} closed due to stop loss at {crwd_data.index[i]}: Sell Price = {action_price}\")\n",
    "        \n",
    "        else:\n",
    "            # Now check for SMA divergence\n",
    "            sma_diff = current_sma - current_close\n",
    "            \n",
    "            if sma_diff > 0:  # SMA is above the current price (positive difference)\n",
    "                prices_to_check = [current_low, current_close, current_open, current_high]\n",
    "            else:  # SMA is below the current price (negative difference)\n",
    "                prices_to_check = [current_high, current_open, current_close, current_low]\n",
    "            \n",
    "            # Find the first price that diverges more than the threshold\n",
    "            for price in prices_to_check:\n",
    "                if abs(price - current_sma) >= 1.00:\n",
    "                    action_price = price\n",
    "                    # Log the sell due to SMA divergence\n",
    "                    trade_log = pd.concat([trade_log, pd.DataFrame({\n",
    "                        \"Entry_Time\": [crwd_data.index[i]],\n",
    "                        \"Action_Price\": [action_price],\n",
    "                        \"Stop_Loss\": [stop_loss],\n",
    "                        \"Trade_Type\": [\"Sell - Away from SMA\"],\n",
    "                        \"Trade_ID\": [trade_id]\n",
    "                    })], ignore_index=True)\n",
    "                    \n",
    "                    # Remove the position from active_positions\n",
    "                    active_positions.remove(position)\n",
    "                    print(f\"Position with Trade ID {trade_id} closed due to SMA divergence at {crwd_data.index[i]}: Sell Price = {action_price}\")\n",
    "                    break  # Exit the loop once a price meets the condition\n",
    "\n",
    "    # Check if a new position was opened (from the previous logic)\n",
    "    if crwd_data.iloc[i]['Label'] == \"Indicator Bar\" and \\\n",
    "       crwd_data.iloc[i]['Close'] > crwd_data.iloc[i-1]['High'] + 0.01:\n",
    "        # Calculate the stop loss as $0.01 below the last Ignored Bar\n",
    "        stop_loss = calculate_stop_loss(i)\n",
    "        \n",
    "        # Record the new buy position with a unique Trade ID\n",
    "        trade_id = trade_id_counter\n",
    "        new_position = (\n",
    "            crwd_data.index[i],  # Entry time\n",
    "            crwd_data.iloc[i-1]['High'] + 0.01,  # Entry price\n",
    "            stop_loss,  # Stop loss\n",
    "            \"Buy\",  # Trade type\n",
    "            trade_id  # Trade ID\n",
    "        )\n",
    "        active_positions.append(new_position)\n",
    "        \n",
    "        # Log the buy\n",
    "        trade_log = pd.concat([trade_log, pd.DataFrame({\n",
    "            \"Entry_Time\": [crwd_data.index[i]],\n",
    "            \"Action_Price\": [crwd_data.iloc[i-1]['High'] + 0.01],\n",
    "            \"Stop_Loss\": [stop_loss],\n",
    "            \"Trade_Type\": [\"Buy\"],\n",
    "            \"Trade_ID\": [trade_id]\n",
    "        })], ignore_index=True)\n",
    "\n",
    "        # Increment the Trade ID counter\n",
    "        trade_id_counter += 1\n",
    "\n",
    "# Save the trade log to a new CSV file\n",
    "trade_log.to_csv(\"CRWD_Trade_Log.csv\", index=False)\n",
    "\n",
    "print(\"Trade identification and logging completed successfully!\")\n"
   ]
  },
  {
   "cell_type": "markdown",
   "metadata": {},
   "source": [
    "Cleaning up the Trade Logs"
   ]
  },
  {
   "cell_type": "code",
   "execution_count": 43,
   "metadata": {},
   "outputs": [
    {
     "name": "stdout",
     "output_type": "stream",
     "text": [
      "Trade log sorted, rounded, and formatted with two decimal places successfully!\n"
     ]
    }
   ],
   "source": [
    "# Load the existing trade log\n",
    "trade_log = pd.read_csv(\"CRWD_Trade_Log.csv\", parse_dates=[\"Entry_Time\"])\n",
    "\n",
    "# Sort the trade log by Entry_Time in ascending order\n",
    "trade_log = trade_log.sort_values(by=\"Entry_Time\", ascending=True)\n",
    "\n",
    "# Round all monetary values to the nearest hundredth and format to keep two decimal places\n",
    "trade_log[\"Action_Price\"] = trade_log[\"Action_Price\"].round(2).apply(lambda x: f\"{x:.2f}\")\n",
    "trade_log[\"Stop_Loss\"] = trade_log[\"Stop_Loss\"].round(2).apply(lambda x: f\"{x:.2f}\")\n",
    "\n",
    "# Save the updated and sorted trade log\n",
    "trade_log.to_csv(\"CRWD_Trade_Log.csv\", index=False)\n",
    "\n",
    "print(\"Trade log sorted, rounded, and formatted with two decimal places successfully!\")"
   ]
  },
  {
   "cell_type": "markdown",
   "metadata": {},
   "source": [
    "Calculating performance of trading strategy in a test portfolio of $100,000 for simplicity & saves all data to performance log"
   ]
  },
  {
   "cell_type": "code",
   "execution_count": 44,
   "metadata": {},
   "outputs": [
    {
     "name": "stdout",
     "output_type": "stream",
     "text": [
      "Trading execution and logging with Solution 2 implemented completed successfully!\n"
     ]
    }
   ],
   "source": [
    "# Load the CRWD trade log\n",
    "trade_log = pd.read_csv(\"CRWD_Trade_Log.csv\", parse_dates=[\"Entry_Time\"])\n",
    "\n",
    "# Initialize variables for the performance log\n",
    "initial_cash = 100000.00\n",
    "cash = initial_cash\n",
    "equity_curve = [cash]  # Track the equity curve for max drawdown calculation\n",
    "ticker = \"CRWD\"\n",
    "\n",
    "# Initialize a DataFrame to record performance\n",
    "performance_log = pd.DataFrame(columns=[\"Trade_ID\", \"Action_Type\", \"Ticker\", \"Action_Time\", \"Action_Price\", \"Shares\", \"Total_Action_Value\", \"Cash_After_Trade\", \"Value_of_Open_Positions\", \"Value_of_Fund\", \"Simple_Return\", \"R_Multiple\"])\n",
    "\n",
    "# Track the number of shares held for each trade ID\n",
    "positions = {}\n",
    "\n",
    "# Iterate through the trade log to simulate the strategy\n",
    "for i, row in trade_log.iterrows():\n",
    "    trade_id = row[\"Trade_ID\"]\n",
    "    action_price = round(row[\"Action_Price\"], 2)\n",
    "    action_time = row[\"Entry_Time\"].strftime(\"%Y-%m-%d %H:%M:%S\")\n",
    "    trade_type = row[\"Trade_Type\"]\n",
    "\n",
    "    if \"Buy\" in trade_type:\n",
    "        # Calculate the amount to spend (half of current cash)\n",
    "        amount_to_spend = cash / 2\n",
    "\n",
    "        # Calculate the number of shares to buy, rounded down to the nearest hundredth\n",
    "        shares = math.floor((amount_to_spend / action_price) * 100) / 100\n",
    "        \n",
    "        # Calculate the total purchase price, rounded to the nearest hundredth\n",
    "        total_purchase_price = round(shares * action_price, 2)\n",
    "\n",
    "        # Ensure we have more than $1 to trade with\n",
    "        if total_purchase_price > 1.00:\n",
    "            # Record the position\n",
    "            positions[trade_id] = (shares, action_price, row[\"Stop_Loss\"])\n",
    "\n",
    "            # Update cash\n",
    "            cash -= total_purchase_price\n",
    "\n",
    "            # Calculate the value of all open positions\n",
    "            value_of_open_positions = sum(\n",
    "                (shares_held * action_price) for _, (shares_held, entry_price, _) in positions.items()\n",
    "            )\n",
    "\n",
    "            # Total value of the fund (cash + value of open positions)\n",
    "            value_of_fund = cash + value_of_open_positions\n",
    "\n",
    "            # Log the buy action\n",
    "            performance_log = pd.concat([performance_log, pd.DataFrame({\n",
    "                \"Trade_ID\": [trade_id],\n",
    "                \"Action_Type\": [\"Buy\"],\n",
    "                \"Ticker\": [ticker],\n",
    "                \"Action_Time\": [action_time],\n",
    "                \"Action_Price\": [f\"{action_price:.2f}\"],\n",
    "                \"Shares\": [f\"{shares:.2f}\"],\n",
    "                \"Total_Action_Value\": [f\"{total_purchase_price:.2f}\"],\n",
    "                \"Cash_After_Trade\": [f\"{cash:.2f}\"],\n",
    "                \"Value_of_Open_Positions\": [f\"{value_of_open_positions:.2f}\"],\n",
    "                \"Value_of_Fund\": [f\"{value_of_fund:.2f}\"],\n",
    "                \"Simple_Return\": [None],  # Simple return is not applicable at the time of buy\n",
    "                \"R_Multiple\": [None]  # R-multiple is not applicable at the time of buy\n",
    "            })], ignore_index=True)\n",
    "    \n",
    "    elif \"Sell\" in trade_type and trade_id in positions:\n",
    "        # Calculate the number of shares to sell and retrieve the buy price and stop loss\n",
    "        shares, entry_price, stop_loss = positions.pop(trade_id)\n",
    "        \n",
    "        # Calculate the total sale price, rounded to the nearest hundredth\n",
    "        total_sale_price = round(shares * action_price, 2)\n",
    "\n",
    "        # Correct R-multiple calculation:\n",
    "        if entry_price != stop_loss:\n",
    "            r_multiple = round((action_price - entry_price) / (entry_price - stop_loss), 2)\n",
    "        else:\n",
    "            r_multiple = -1.00  # If stop loss is exactly hit\n",
    "\n",
    "        # Update cash\n",
    "        cash += total_sale_price  # ADD the sale proceeds to the cash balance\n",
    "        equity_curve.append(cash)\n",
    "\n",
    "        # Calculate the value of all open positions\n",
    "        value_of_open_positions = sum(\n",
    "            (shares_held * action_price) for _, (shares_held, entry_price, _) in positions.items()\n",
    "        )\n",
    "\n",
    "        # Total value of the fund (cash + value of open positions)\n",
    "        value_of_fund = cash + value_of_open_positions\n",
    "\n",
    "        # Calculate the simple return for this trade\n",
    "        trade_simple_return = round(((total_sale_price - (shares * entry_price)) / (shares * entry_price)) * 100, 3)\n",
    "\n",
    "        # Log the sell action\n",
    "        performance_log = pd.concat([performance_log, pd.DataFrame({\n",
    "                \"Trade_ID\": [trade_id],\n",
    "                \"Action_Type\": [\"Sell\"],\n",
    "                \"Ticker\": [ticker],\n",
    "                \"Action_Time\": [action_time],\n",
    "                \"Action_Price\": [f\"{action_price:.2f}\"],\n",
    "                \"Shares\": [f\"{shares:.2f}\"],\n",
    "                \"Total_Action_Value\": [f\"{total_sale_price:.2f}\"],\n",
    "                \"Cash_After_Trade\": [f\"{cash:.2f}\"],\n",
    "                \"Value_of_Open_Positions\": [f\"{value_of_open_positions:.2f}\"],\n",
    "                \"Value_of_Fund\": [f\"{value_of_fund:.2f}\"],\n",
    "                \"Simple_Return\": [f\"{trade_simple_return:.2f}%\"],\n",
    "                \"R_Multiple\": [f\"{r_multiple:.2f}\"]\n",
    "            })], ignore_index=True)\n",
    "\n",
    "# Close any open positions at the end of the log\n",
    "for trade_id, (shares, entry_price, stop_loss) in positions.items():\n",
    "    # Close at the entry price\n",
    "    action_price = entry_price\n",
    "    \n",
    "    # Calculate the total sale price, rounded to the nearest hundredth\n",
    "    total_sale_price = round(shares * action_price, 2)\n",
    "    \n",
    "    # No R-multiple for closing at the entry price, it's break-even\n",
    "    r_multiple = 0\n",
    "\n",
    "    # Update cash\n",
    "    cash += total_sale_price  # ADD the sale proceeds to the cash balance\n",
    "    equity_curve.append(cash)\n",
    "\n",
    "    # Calculate the value of all open positions\n",
    "    value_of_open_positions = sum(\n",
    "        (shares_held * action_price) for _, (shares_held, entry_price, _) in positions.items()\n",
    "    )\n",
    "\n",
    "    # Total value of the fund (cash + value of open positions)\n",
    "    value_of_fund = cash + value_of_open_positions\n",
    "\n",
    "    # Calculate the simple return for this trade\n",
    "    trade_simple_return = round(((total_sale_price - (shares * entry_price)) / (shares * entry_price)) * 100, 3)\n",
    "\n",
    "    # Log the sell action for closing open positions\n",
    "    performance_log = pd.concat([performance_log, pd.DataFrame({\n",
    "                \"Trade_ID\": [trade_id],\n",
    "                \"Action_Type\": [\"Sell - End of Log\"],\n",
    "                \"Ticker\": [ticker],\n",
    "                \"Action_Time\": [trade_log.iloc[-1][\"Entry_Time\"].strftime(\"%Y-%m-%d %H:%M:%S\")],\n",
    "                \"Action_Price\": [f\"{action_price:.2f}\"],\n",
    "                \"Shares\": [f\"{shares:.2f}\"],\n",
    "                \"Total_Action_Value\": [f\"{total_sale_price:.2f}\"],\n",
    "                \"Cash_After_Trade\": [f\"{cash:.2f}\"],\n",
    "                \"Value_of_Open_Positions\": [f\"{value_of_open_positions:.2f}\"],\n",
    "                \"Value_of_Fund\": [f\"{value_of_fund:.2f}\"],\n",
    "                \"Simple_Return\": [f\"{trade_simple_return:.2f}%\"],\n",
    "                \"R_Multiple\": [f\"{r_multiple:.2f}\"]\n",
    "            })], ignore_index=True)\n",
    "\n",
    "# Save the updated performance log to a new CSV file\n",
    "performance_log.to_csv(\"Performance_Log.csv\", index=False)\n",
    "\n",
    "print(\"Trading execution and logging with Solution 2 implemented completed successfully!\")\n"
   ]
  },
  {
   "cell_type": "markdown",
   "metadata": {},
   "source": [
    "Analyzes performance log to calculate all metrics"
   ]
  },
  {
   "cell_type": "code",
   "execution_count": 45,
   "metadata": {},
   "outputs": [
    {
     "name": "stdout",
     "output_type": "stream",
     "text": [
      "Full Trades: 56\n",
      "Win Rate: 44.643%\n",
      "Total Simple Return: 3.743%\n",
      "Total Log Return: 7.774%\n",
      "Profit Factor: 2.581\n",
      "Sharpe Ratio: 18.775\n",
      "Max Drawdown: 0.676%\n",
      "Total P&L: +$3,743.28\n"
     ]
    }
   ],
   "source": [
    "# Load the performance log\n",
    "performance_log = pd.read_csv(\"Performance_Log.csv\")\n",
    "\n",
    "# Initialize variables for performance metrics\n",
    "initial_cash = 100000.00\n",
    "final_cash = performance_log.iloc[-1][\"Cash_After_Trade\"]\n",
    "total_profit = 0.00\n",
    "total_loss = 0.00\n",
    "num_wins = 0\n",
    "num_losses = 0\n",
    "log_returns = []\n",
    "equity_curve = performance_log[\"Value_of_Fund\"]\n",
    "\n",
    "# Iterate through the performance log to calculate metrics\n",
    "for i, row in performance_log.iterrows():\n",
    "    if \"Sell\" in row[\"Action_Type\"]:\n",
    "        entry_price = float(performance_log[(performance_log[\"Trade_ID\"] == row[\"Trade_ID\"]) & (performance_log[\"Action_Type\"] == \"Buy\")][\"Action_Price\"].iloc[0])\n",
    "        action_price = float(row[\"Action_Price\"])\n",
    "        \n",
    "        # Calculate log return and append to log_returns\n",
    "        log_return = np.log(action_price / entry_price)\n",
    "        log_returns.append(log_return)\n",
    "\n",
    "        # Determine if this is a winning or losing trade\n",
    "        if log_return > 0:\n",
    "            total_profit += float(row[\"Total_Action_Value\"]) - entry_price * float(row[\"Shares\"])\n",
    "            num_wins += 1\n",
    "        else:\n",
    "            total_loss += entry_price * float(row[\"Shares\"]) - float(row[\"Total_Action_Value\"])\n",
    "            num_losses += 1\n",
    "\n",
    "# Calculate metrics\n",
    "full_trades = num_wins + num_losses\n",
    "win_rate = round((num_wins / full_trades) * 100, 3) if full_trades > 0 else 0\n",
    "profit_factor = round((total_profit / total_loss), 3) if total_loss > 0 else float('inf')\n",
    "simple_return = round((final_cash - initial_cash) / initial_cash * 100, 3)\n",
    "\n",
    "# Calculate the realized Rf return for the specific period\n",
    "annual_rate = 5.35 / 100  # Convert 5.35% to a decimal\n",
    "days_held = 43  # Number of days between 07/08/2024 and 08/19/2024\n",
    "days_in_year = 365  # Number of days in a year\n",
    "\n",
    "# Calculate cumulative Rf over the period\n",
    "realized_Rf_return = ((1 + annual_rate) ** (days_held / days_in_year) - 1)\n",
    "\n",
    "# Calculate the total log return of the portfolio over the period\n",
    "total_log_return = np.sum(log_returns)\n",
    "\n",
    "# Calculate the Sharpe Ratio using the total log return and cumulative Rf return\n",
    "log_return_std = np.std(log_returns)\n",
    "sharpe_ratio = round((total_log_return - realized_Rf_return) / log_return_std, 3) if len(log_returns) > 1 else 0\n",
    "\n",
    "# Calculate Max Drawdown using the Value_of_Fund column\n",
    "roll_max = equity_curve.cummax()\n",
    "drawdown = (equity_curve - roll_max) / roll_max\n",
    "max_drawdown = round(drawdown.min() * -100, 3) if not drawdown.empty else 0\n",
    "\n",
    "# Output final metrics and cash balance\n",
    "pnl = final_cash - initial_cash\n",
    "pnl_sign = \"+\" if pnl > 0 else \"-\"\n",
    "\n",
    "print(f\"Full Trades: {full_trades}\")\n",
    "print(f\"Win Rate: {win_rate}%\")\n",
    "print(f\"Total Simple Return: {simple_return}%\")\n",
    "print(f\"Total Log Return: {round(total_log_return*100,3)}%\")\n",
    "print(f\"Profit Factor: {profit_factor}\")\n",
    "print(f\"Sharpe Ratio: {sharpe_ratio}\")\n",
    "print(f\"Max Drawdown: {max_drawdown}%\")\n",
    "print(f\"Total P&L: {pnl_sign}${pnl:,.2f}\")"
   ]
  },
  {
   "cell_type": "markdown",
   "metadata": {},
   "source": [
    "Graphs the performance of the Fund vs SPY in the same timeframe"
   ]
  },
  {
   "cell_type": "code",
   "execution_count": 46,
   "metadata": {},
   "outputs": [
    {
     "name": "stderr",
     "output_type": "stream",
     "text": [
      "/var/folders/2n/rmtzbdn93h3f2tkgn0yypj300000gn/T/ipykernel_18989/1497379746.py:49: MatplotlibDeprecationWarning: The legendHandles attribute was deprecated in Matplotlib 3.7 and will be removed two minor releases later. Use legend_handles instead.\n",
      "  for legobj in legend.legendHandles:\n"
     ]
    },
    {
     "data": {
      "image/png": "[encoded data removed]",
      "text/plain": [
       "<Figure size 1200x600 with 1 Axes>"
      ]
     },
     "metadata": {},
     "output_type": "display_data"
    }
   ],
   "source": [
    "# Load the performance log\n",
    "performance_log = pd.read_csv(\"Performance_Log.csv\", parse_dates=[\"Action_Time\"])\n",
    "\n",
    "# Remove duplicate Action_Time entries\n",
    "performance_log = performance_log.drop_duplicates(subset=\"Action_Time\")\n",
    "\n",
    "# Determine the number of points to plot\n",
    "num_points = 12\n",
    "indices = np.linspace(0, len(performance_log) - 1, num_points, dtype=int)\n",
    "\n",
    "# Select the data at the calculated indices\n",
    "selected_data = performance_log.iloc[indices]\n",
    "\n",
    "# Plot the value of the fund over time\n",
    "plt.figure(figsize=(12, 6))\n",
    "\n",
    "# Calculate and plot the line of best fit (trend line) based on the selected data\n",
    "x = date2num(selected_data[\"Action_Time\"])\n",
    "y = selected_data[\"Value_of_Fund\"]\n",
    "z = np.polyfit(x, y, 1)\n",
    "p = np.poly1d(z)\n",
    "\n",
    "# Plot the Portfolio Trend line under the Value of Fund line\n",
    "plt.plot(selected_data[\"Action_Time\"], p(x), color='lightgreen', linewidth=10, label='Alif Trendline', zorder=1)\n",
    "\n",
    "# Enhancing the chart\n",
    "plt.plot(selected_data[\"Action_Time\"], selected_data[\"Value_of_Fund\"], color='blue', linewidth=2, label='Value of Alif', zorder=2)\n",
    "\n",
    "plt.title('Alif vs SPY Over Time', fontsize=16)\n",
    "plt.xlabel('Date', fontsize=14)\n",
    "plt.ylabel('Value of Fund', fontsize=14)\n",
    "plt.grid(True)\n",
    "\n",
    "# Format the date on the x-axis to \"Month Day, Year\"\n",
    "date_form = DateFormatter(\"%B %d, %Y\")\n",
    "plt.gca().xaxis.set_major_formatter(date_form)\n",
    "\n",
    "# Format the y-axis with dollar signs and commas\n",
    "plt.gca().yaxis.set_major_formatter(plt.FuncFormatter(lambda x, loc: f'${x:,.0f}'))\n",
    "\n",
    "# Set evenly spaced gridlines on x-axis\n",
    "plt.gca().xaxis.set_major_locator(plt.MaxNLocator(nbins=7))  # Adjust the number of gridlines on the x-axis\n",
    "\n",
    "# Adding a legend with better display for the thick line\n",
    "legend = plt.legend(loc='upper left', fontsize=12)\n",
    "legend.get_frame().set_alpha(1)  # Make the legend background solid\n",
    "\n",
    "# Adjust the thickness of the legend line\n",
    "for legobj in legend.legendHandles:\n",
    "    legobj.set_linewidth(5.0)\n",
    "\n",
    "# Show the plot\n",
    "plt.tight_layout()\n",
    "plt.show()\n"
   ]
  }
 ],
 "metadata": {
  "kernelspec": {
   "display_name": "Python 3",
   "language": "python",
   "name": "python3"
  },
  "language_info": {
   "codemirror_mode": {
    "name": "ipython",
    "version": 3
   },
   "file_extension": ".py",
   "mimetype": "text/x-python",
   "name": "python",
   "nbconvert_exporter": "python",
   "pygments_lexer": "ipython3",
   "version": "3.9.6"
  }
 },
 "nbformat": 4,
 "nbformat_minor": 2
}
