{
 "cells": [
  {
   "cell_type": "code",
   "execution_count": 2,
   "metadata": {},
   "outputs": [
    {
     "name": "stdout",
     "output_type": "stream",
     "text": [
      "Fetching data for CRWD\n"
     ]
    },
    {
     "name": "stderr",
     "output_type": "stream",
     "text": [
      "[*********************100%%**********************]  1 of 1 completed\n"
     ]
    },
    {
     "name": "stdout",
     "output_type": "stream",
     "text": [
      "Fetching data for NVDA\n"
     ]
    },
    {
     "name": "stderr",
     "output_type": "stream",
     "text": [
      "[*********************100%%**********************]  1 of 1 completed\n"
     ]
    },
    {
     "name": "stdout",
     "output_type": "stream",
     "text": [
      "Fetching data for HD\n"
     ]
    },
    {
     "name": "stderr",
     "output_type": "stream",
     "text": [
      "[*********************100%%**********************]  1 of 1 completed"
     ]
    },
    {
     "name": "stdout",
     "output_type": "stream",
     "text": [
      "Data retrieval and saving complete!\n"
     ]
    },
    {
     "name": "stderr",
     "output_type": "stream",
     "text": [
      "\n"
     ]
    }
   ],
   "source": [
    "import yfinance as yf\n",
    "import pandas as pd\n",
    "import datetime\n",
    "\n",
    "# Define the list of tickers for the selected equities\n",
    "tickers = ['CRWD', 'NVDA', 'HD']\n",
    "\n",
    "# Initialize an empty dictionary to store the data\n",
    "data = {}\n",
    "\n",
    "# Retrieve 2-minute interval data for the past 60 days\n",
    "start_date = (datetime.datetime.now() - datetime.timedelta(days=59)).strftime('%Y-%m-%d')\n",
    "end_date = datetime.datetime.now().strftime('%Y-%m-%d')\n",
    "\n",
    "for ticker in tickers:\n",
    "    print(f\"Fetching data for {ticker}\")\n",
    "    try:\n",
    "        stock_data = yf.download(ticker, start=start_date, end=end_date, interval='2m')\n",
    "        data[ticker] = stock_data\n",
    "        \n",
    "        # Save each stock's data into a separate CSV file\n",
    "        stock_data.to_csv(f\"{ticker}_2min_data.csv\")\n",
    "        \n",
    "    except Exception as e:\n",
    "        print(f\"Could not retrieve data for {ticker}: {e}\")\n",
    "\n",
    "print(\"Data retrieval and saving complete!\")"
   ]
  }
 ],
 "metadata": {
  "kernelspec": {
   "display_name": "Python 3",
   "language": "python",
   "name": "python3"
  },
  "language_info": {
   "codemirror_mode": {
    "name": "ipython",
    "version": 3
   },
   "file_extension": ".py",
   "mimetype": "text/x-python",
   "name": "python",
   "nbconvert_exporter": "python",
   "pygments_lexer": "ipython3",
   "version": "3.9.6"
  }
 },
 "nbformat": 4,
 "nbformat_minor": 2
}
